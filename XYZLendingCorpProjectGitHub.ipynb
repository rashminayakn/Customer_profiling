{
 "cells": [
  {
   "cell_type": "markdown",
   "metadata": {},
   "source": [
    "#                                Lending Corp Default loan prediction"
   ]
  },
  {
   "cell_type": "code",
   "execution_count": 1,
   "metadata": {},
   "outputs": [
    {
     "name": "stderr",
     "output_type": "stream",
     "text": [
      "Using TensorFlow backend.\n"
     ]
    },
    {
     "name": "stdout",
     "output_type": "stream",
     "text": [
      "C:\\Imarticus\\Projects\\Python Project - Bank Lending-20190227T152546Z-001\\Python Project - Bank Lending\n"
     ]
    }
   ],
   "source": [
    "import pandas as pd\n",
    "pd.set_option('display.max_columns',None)\n",
    "import numpy as np\n",
    "import os\n",
    "import seaborn as sns\n",
    "import matplotlib.pyplot as plt\n",
    "from scipy import stats\n",
    "from sklearn import preprocessing\n",
    "from sklearn.linear_model import LogisticRegression\n",
    "from sklearn.metrics import accuracy_score\n",
    "from sklearn.metrics import confusion_matrix\n",
    "from sklearn.metrics import classification_report\n",
    "from sklearn import metrics\n",
    "from sklearn.model_selection import GridSearchCV\n",
    "from sklearn.ensemble import RandomForestClassifier\n",
    "from sklearn.metrics import f1_score\n",
    "from sklearn.model_selection import KFold,cross_val_predict\n",
    "import scipy.stats as stats\n",
    "from imblearn.over_sampling import SMOTE\n",
    "from scipy.stats import chi2_contingency\n",
    "from sklearn.ensemble import GradientBoostingClassifier\n",
    "import scikitplot as skplt\n",
    "os.chdir(\"C:\\Imarticus\\Projects\\Python Project - Bank Lending-20190227T152546Z-001\\Python Project - Bank Lending\")\n",
    "print(os.getcwd())"
   ]
  },
  {
   "cell_type": "code",
   "execution_count": 2,
   "metadata": {},
   "outputs": [],
   "source": [
    "lend_data=pd.read_csv(\"XYZCorp_LendingData.txt\",sep=\"\\t\",low_memory=False)"
   ]
  },
  {
   "cell_type": "markdown",
   "metadata": {},
   "source": [
    "# Dropping variables having more than 30% of missing values"
   ]
  },
  {
   "cell_type": "code",
   "execution_count": 3,
   "metadata": {},
   "outputs": [
    {
     "data": {
      "text/plain": [
       "id                       0\n",
       "member_id                0\n",
       "loan_amnt                0\n",
       "funded_amnt              0\n",
       "funded_amnt_inv          0\n",
       "                     ...  \n",
       "total_rev_hi_lim     67313\n",
       "inq_fi              842681\n",
       "total_cu_tl         842681\n",
       "inq_last_12m        842681\n",
       "default_ind              0\n",
       "Length: 73, dtype: int64"
      ]
     },
     "execution_count": 3,
     "metadata": {},
     "output_type": "execute_result"
    }
   ],
   "source": [
    "#missing values in the dataset\n",
    "lend_data.isna().sum()"
   ]
  },
  {
   "cell_type": "code",
   "execution_count": 4,
   "metadata": {},
   "outputs": [],
   "source": [
    "threshold=len(lend_data)*(0.7)\n",
    "lend_data=lend_data.dropna(thresh=threshold,axis=1)"
   ]
  },
  {
   "cell_type": "markdown",
   "metadata": {},
   "source": [
    "For each of these features, we check the description in the Data Dictionary and only keep the features that would have been available to investors considering an investment in the loan."
   ]
  },
  {
   "cell_type": "code",
   "execution_count": 5,
   "metadata": {},
   "outputs": [],
   "source": [
    "lend_data=lend_data.drop(['id','title','member_id','funded_amnt','funded_amnt_inv',\n",
    "                'out_prncp','out_prncp_inv','total_pymnt','total_pymnt_inv','total_rec_prncp',\n",
    "        'total_rec_int','total_rec_late_fee','last_pymnt_d','last_pymnt_amnt',\n",
    "        'zip_code','installment','next_pymnt_d','recoveries','collection_recovery_fee','last_credit_pull_d','initial_list_status'],axis=1)"
   ]
  },
  {
   "cell_type": "code",
   "execution_count": 6,
   "metadata": {},
   "outputs": [
    {
     "data": {
      "text/plain": [
       "290912"
      ]
     },
     "execution_count": 6,
     "metadata": {},
     "output_type": "execute_result"
    }
   ],
   "source": [
    "lend_data['emp_title'].nunique()"
   ]
  },
  {
   "cell_type": "markdown",
   "metadata": {},
   "source": [
    "Since there are 290912 different emp_title values , it needs additional information to make some sense out of it. Hence dropping the variable"
   ]
  },
  {
   "cell_type": "code",
   "execution_count": 7,
   "metadata": {},
   "outputs": [],
   "source": [
    "lend_data=lend_data.drop(['emp_title'],axis=1)"
   ]
  },
  {
   "cell_type": "code",
   "execution_count": 8,
   "metadata": {},
   "outputs": [],
   "source": [
    "#sub-grade is redundant information as grade is already present in the dataset\n",
    "lend_data=lend_data.drop(['sub_grade'],axis=1)"
   ]
  },
  {
   "cell_type": "markdown",
   "metadata": {},
   "source": [
    "# Imputing missing values"
   ]
  },
  {
   "cell_type": "code",
   "execution_count": 9,
   "metadata": {},
   "outputs": [],
   "source": [
    "missingNumCols=['tot_coll_amt','tot_cur_bal','total_rev_hi_lim','revol_util']\n",
    "\n",
    "for col in missingNumCols:\n",
    "    lend_data[col] = lend_data[col].fillna(lend_data[col].median())\n"
   ]
  },
  {
   "cell_type": "code",
   "execution_count": 10,
   "metadata": {},
   "outputs": [],
   "source": [
    "missingCatCols=['emp_length','collections_12_mths_ex_med']\n",
    "for col in missingCatCols:\n",
    "    lend_data[col] = lend_data[col].fillna(lend_data[col].mode()[0])\n"
   ]
  },
  {
   "cell_type": "markdown",
   "metadata": {},
   "source": [
    "# Visualization (Univariate and Bivariate Analysis)\n",
    "# Continuous data"
   ]
  },
  {
   "cell_type": "code",
   "execution_count": 11,
   "metadata": {},
   "outputs": [],
   "source": [
    "def numeric_plot(col_name, full_name):\n",
    "    f, (ax1, ax2) = plt.subplots(nrows=1, ncols=2, figsize=(12,3), dpi=90)\n",
    "    sns.distplot(lend_data.loc[lend_data[col_name].notnull(), col_name], kde=False, ax=ax1)\n",
    "    ax1.set_xlabel(full_name)\n",
    "    ax1.set_ylabel('Count')\n",
    "    ax1.set_title(full_name)\n",
    "    \n",
    "    sns.boxplot(x='default_ind', y=col_name, data=lend_data, ax=ax2)\n",
    "    ax2.set_xlabel('Loan Status')\n",
    "    ax2.set_ylabel(full_name)\n",
    "    ax2.set_title(full_name + ' by Loan Status')"
   ]
  },
  {
   "cell_type": "markdown",
   "metadata": {},
   "source": [
    "# Loan Amount"
   ]
  },
  {
   "cell_type": "code",
   "execution_count": 12,
   "metadata": {},
   "outputs": [
    {
     "name": "stderr",
     "output_type": "stream",
     "text": [
      "C:\\Users\\rashm\\Anaconda3\\lib\\site-packages\\scipy\\stats\\stats.py:1713: FutureWarning: Using a non-tuple sequence for multidimensional indexing is deprecated; use `arr[tuple(seq)]` instead of `arr[seq]`. In the future this will be interpreted as an array index, `arr[np.array(seq)]`, which will result either in an error or a different result.\n",
      "  return np.add.reduce(sorted[indexer] * weights, axis=axis) / sumval\n"
     ]
    },
    {
     "data": {
      "image/png": "[encoded data removed]",
      "text/plain": [
       "<Figure size 1080x270 with 2 Axes>"
      ]
     },
     "metadata": {
      "needs_background": "light"
     },
     "output_type": "display_data"
    }
   ],
   "source": [
    "numeric_plot('loan_amnt','Loan Amount')"
   ]
  },
  {
   "cell_type": "code",
   "execution_count": 13,
   "metadata": {},
   "outputs": [
    {
     "data": {
      "text/html": [
       "<div>\n",
       "<style scoped>\n",
       "    .dataframe tbody tr th:only-of-type {\n",
       "        vertical-align: middle;\n",
       "    }\n",
       "\n",
       "    .dataframe tbody tr th {\n",
       "        vertical-align: top;\n",
       "    }\n",
       "\n",
       "    .dataframe thead th {\n",
       "        text-align: right;\n",
       "    }\n",
       "</style>\n",
       "<table border=\"1\" class=\"dataframe\">\n",
       "  <thead>\n",
       "    <tr style=\"text-align: right;\">\n",
       "      <th></th>\n",
       "      <th>count</th>\n",
       "      <th>mean</th>\n",
       "      <th>std</th>\n",
       "      <th>min</th>\n",
       "      <th>25%</th>\n",
       "      <th>50%</th>\n",
       "      <th>75%</th>\n",
       "      <th>max</th>\n",
       "    </tr>\n",
       "    <tr>\n",
       "      <th>default_ind</th>\n",
       "      <th></th>\n",
       "      <th></th>\n",
       "      <th></th>\n",
       "      <th></th>\n",
       "      <th></th>\n",
       "      <th></th>\n",
       "      <th></th>\n",
       "      <th></th>\n",
       "    </tr>\n",
       "  </thead>\n",
       "  <tbody>\n",
       "    <tr>\n",
       "      <td>0</td>\n",
       "      <td>809502.0</td>\n",
       "      <td>14755.476206</td>\n",
       "      <td>8427.151810</td>\n",
       "      <td>500.0</td>\n",
       "      <td>8000.0</td>\n",
       "      <td>13000.0</td>\n",
       "      <td>20000.0</td>\n",
       "      <td>35000.0</td>\n",
       "    </tr>\n",
       "    <tr>\n",
       "      <td>1</td>\n",
       "      <td>46467.0</td>\n",
       "      <td>14573.018486</td>\n",
       "      <td>8391.928489</td>\n",
       "      <td>900.0</td>\n",
       "      <td>8000.0</td>\n",
       "      <td>12700.0</td>\n",
       "      <td>20000.0</td>\n",
       "      <td>35000.0</td>\n",
       "    </tr>\n",
       "  </tbody>\n",
       "</table>\n",
       "</div>"
      ],
      "text/plain": [
       "                count          mean          std    min     25%      50%  \\\n",
       "default_ind                                                                \n",
       "0            809502.0  14755.476206  8427.151810  500.0  8000.0  13000.0   \n",
       "1             46467.0  14573.018486  8391.928489  900.0  8000.0  12700.0   \n",
       "\n",
       "                 75%      max  \n",
       "default_ind                    \n",
       "0            20000.0  35000.0  \n",
       "1            20000.0  35000.0  "
      ]
     },
     "execution_count": 13,
     "metadata": {},
     "output_type": "execute_result"
    }
   ],
   "source": [
    "lend_data.groupby('default_ind')['loan_amnt'].describe()"
   ]
  },
  {
   "cell_type": "markdown",
   "metadata": {},
   "source": [
    "Inference: Loan amount has multimodal distribution. "
   ]
  },
  {
   "cell_type": "markdown",
   "metadata": {},
   "source": [
    "# Annual Income"
   ]
  },
  {
   "cell_type": "code",
   "execution_count": 14,
   "metadata": {},
   "outputs": [],
   "source": [
    "lend_data['log_annual_inc'] = lend_data['annual_inc'].apply(lambda x: np.log10(x+1))"
   ]
  },
  {
   "cell_type": "code",
   "execution_count": 15,
   "metadata": {},
   "outputs": [
    {
     "data": {
      "image/png": "[encoded data removed]",
      "text/plain": [
       "<Figure size 1080x270 with 2 Axes>"
      ]
     },
     "metadata": {
      "needs_background": "light"
     },
     "output_type": "display_data"
    }
   ],
   "source": [
    "numeric_plot('log_annual_inc','Annual Income')"
   ]
  },
  {
   "cell_type": "code",
   "execution_count": 16,
   "metadata": {},
   "outputs": [
    {
     "data": {
      "text/html": [
       "<div>\n",
       "<style scoped>\n",
       "    .dataframe tbody tr th:only-of-type {\n",
       "        vertical-align: middle;\n",
       "    }\n",
       "\n",
       "    .dataframe tbody tr th {\n",
       "        vertical-align: top;\n",
       "    }\n",
       "\n",
       "    .dataframe thead th {\n",
       "        text-align: right;\n",
       "    }\n",
       "</style>\n",
       "<table border=\"1\" class=\"dataframe\">\n",
       "  <thead>\n",
       "    <tr style=\"text-align: right;\">\n",
       "      <th></th>\n",
       "      <th>count</th>\n",
       "      <th>mean</th>\n",
       "      <th>std</th>\n",
       "      <th>min</th>\n",
       "      <th>25%</th>\n",
       "      <th>50%</th>\n",
       "      <th>75%</th>\n",
       "      <th>max</th>\n",
       "    </tr>\n",
       "    <tr>\n",
       "      <th>default_ind</th>\n",
       "      <th></th>\n",
       "      <th></th>\n",
       "      <th></th>\n",
       "      <th></th>\n",
       "      <th></th>\n",
       "      <th></th>\n",
       "      <th></th>\n",
       "      <th></th>\n",
       "    </tr>\n",
       "  </thead>\n",
       "  <tbody>\n",
       "    <tr>\n",
       "      <td>0</td>\n",
       "      <td>809502.0</td>\n",
       "      <td>4.813480</td>\n",
       "      <td>0.229318</td>\n",
       "      <td>0.000000</td>\n",
       "      <td>4.662767</td>\n",
       "      <td>4.812920</td>\n",
       "      <td>4.954247</td>\n",
       "      <td>6.977724</td>\n",
       "    </tr>\n",
       "    <tr>\n",
       "      <td>1</td>\n",
       "      <td>46467.0</td>\n",
       "      <td>4.754257</td>\n",
       "      <td>0.220347</td>\n",
       "      <td>3.610767</td>\n",
       "      <td>4.602071</td>\n",
       "      <td>4.748196</td>\n",
       "      <td>4.892100</td>\n",
       "      <td>6.939848</td>\n",
       "    </tr>\n",
       "  </tbody>\n",
       "</table>\n",
       "</div>"
      ],
      "text/plain": [
       "                count      mean       std       min       25%       50%  \\\n",
       "default_ind                                                               \n",
       "0            809502.0  4.813480  0.229318  0.000000  4.662767  4.812920   \n",
       "1             46467.0  4.754257  0.220347  3.610767  4.602071  4.748196   \n",
       "\n",
       "                  75%       max  \n",
       "default_ind                      \n",
       "0            4.954247  6.977724  \n",
       "1            4.892100  6.939848  "
      ]
     },
     "execution_count": 16,
     "metadata": {},
     "output_type": "execute_result"
    }
   ],
   "source": [
    "lend_data.groupby('default_ind')['log_annual_inc'].describe()"
   ]
  },
  {
   "cell_type": "code",
   "execution_count": 17,
   "metadata": {},
   "outputs": [],
   "source": [
    "lend_data.drop('log_annual_inc', axis=1, inplace=True)"
   ]
  },
  {
   "cell_type": "markdown",
   "metadata": {},
   "source": [
    "Inference: Annual income has skewed distribution. "
   ]
  },
  {
   "cell_type": "markdown",
   "metadata": {},
   "source": [
    "# Interest Rate"
   ]
  },
  {
   "cell_type": "code",
   "execution_count": 18,
   "metadata": {},
   "outputs": [
    {
     "data": {
      "image/png": "[encoded data removed]",
      "text/plain": [
       "<Figure size 1080x270 with 2 Axes>"
      ]
     },
     "metadata": {
      "needs_background": "light"
     },
     "output_type": "display_data"
    }
   ],
   "source": [
    "numeric_plot('int_rate','Interest Rate')"
   ]
  },
  {
   "cell_type": "code",
   "execution_count": 19,
   "metadata": {},
   "outputs": [
    {
     "data": {
      "text/html": [
       "<div>\n",
       "<style scoped>\n",
       "    .dataframe tbody tr th:only-of-type {\n",
       "        vertical-align: middle;\n",
       "    }\n",
       "\n",
       "    .dataframe tbody tr th {\n",
       "        vertical-align: top;\n",
       "    }\n",
       "\n",
       "    .dataframe thead th {\n",
       "        text-align: right;\n",
       "    }\n",
       "</style>\n",
       "<table border=\"1\" class=\"dataframe\">\n",
       "  <thead>\n",
       "    <tr style=\"text-align: right;\">\n",
       "      <th></th>\n",
       "      <th>count</th>\n",
       "      <th>mean</th>\n",
       "      <th>std</th>\n",
       "      <th>min</th>\n",
       "      <th>25%</th>\n",
       "      <th>50%</th>\n",
       "      <th>75%</th>\n",
       "      <th>max</th>\n",
       "    </tr>\n",
       "    <tr>\n",
       "      <th>default_ind</th>\n",
       "      <th></th>\n",
       "      <th></th>\n",
       "      <th></th>\n",
       "      <th></th>\n",
       "      <th></th>\n",
       "      <th></th>\n",
       "      <th></th>\n",
       "      <th></th>\n",
       "    </tr>\n",
       "  </thead>\n",
       "  <tbody>\n",
       "    <tr>\n",
       "      <td>0</td>\n",
       "      <td>809502.0</td>\n",
       "      <td>13.030057</td>\n",
       "      <td>4.316366</td>\n",
       "      <td>5.32</td>\n",
       "      <td>9.76</td>\n",
       "      <td>12.69</td>\n",
       "      <td>15.61</td>\n",
       "      <td>28.99</td>\n",
       "    </tr>\n",
       "    <tr>\n",
       "      <td>1</td>\n",
       "      <td>46467.0</td>\n",
       "      <td>16.019092</td>\n",
       "      <td>4.301283</td>\n",
       "      <td>5.42</td>\n",
       "      <td>13.05</td>\n",
       "      <td>15.80</td>\n",
       "      <td>18.92</td>\n",
       "      <td>28.99</td>\n",
       "    </tr>\n",
       "  </tbody>\n",
       "</table>\n",
       "</div>"
      ],
      "text/plain": [
       "                count       mean       std   min    25%    50%    75%    max\n",
       "default_ind                                                                 \n",
       "0            809502.0  13.030057  4.316366  5.32   9.76  12.69  15.61  28.99\n",
       "1             46467.0  16.019092  4.301283  5.42  13.05  15.80  18.92  28.99"
      ]
     },
     "execution_count": 19,
     "metadata": {},
     "output_type": "execute_result"
    }
   ],
   "source": [
    "lend_data.groupby('default_ind')['int_rate'].describe()"
   ]
  },
  {
   "cell_type": "markdown",
   "metadata": {},
   "source": [
    "Inference: Interest rates range from 5.32% to 28.99% with a median of 13.05%. Defaulted loans tend to have higher interest rates"
   ]
  },
  {
   "cell_type": "markdown",
   "metadata": {},
   "source": [
    "# Debt to Income Ratio"
   ]
  },
  {
   "cell_type": "code",
   "execution_count": 20,
   "metadata": {},
   "outputs": [
    {
     "data": {
      "text/plain": [
       "count    855969.000000\n",
       "mean         18.122165\n",
       "std          17.423629\n",
       "min           0.000000\n",
       "25%          11.880000\n",
       "50%          17.610000\n",
       "75%          23.900000\n",
       "max        9999.000000\n",
       "Name: dti, dtype: float64"
      ]
     },
     "execution_count": 20,
     "metadata": {},
     "output_type": "execute_result"
    }
   ],
   "source": [
    "lend_data['dti'].describe()"
   ]
  },
  {
   "cell_type": "markdown",
   "metadata": {},
   "source": [
    "There are several outliers (75% is 23.9 and max is 9999). So plotting the histogram for dti <60"
   ]
  },
  {
   "cell_type": "code",
   "execution_count": 21,
   "metadata": {},
   "outputs": [
    {
     "data": {
      "text/plain": [
       "Text(0.5, 1.0, 'Debt-to-income Ratio')"
      ]
     },
     "execution_count": 21,
     "metadata": {},
     "output_type": "execute_result"
    },
    {
     "data": {
      "image/png": "[encoded data removed]",
      "text/plain": [
       "<Figure size 720x270 with 1 Axes>"
      ]
     },
     "metadata": {
      "needs_background": "light"
     },
     "output_type": "display_data"
    }
   ],
   "source": [
    "plt.figure(figsize=(8,3), dpi=90)\n",
    "sns.distplot(lend_data.loc[lend_data['dti'].notnull() & (lend_data['dti']<60), 'dti'], kde=False)\n",
    "plt.xlabel('Debt-to-income Ratio')\n",
    "plt.ylabel('Count')\n",
    "plt.title('Debt-to-income Ratio')"
   ]
  },
  {
   "cell_type": "code",
   "execution_count": 22,
   "metadata": {},
   "outputs": [
    {
     "data": {
      "image/png": "[encoded data removed]",
      "text/plain": [
       "<Figure size 1080x270 with 2 Axes>"
      ]
     },
     "metadata": {
      "needs_background": "light"
     },
     "output_type": "display_data"
    }
   ],
   "source": [
    "lend_data['log_dti'] = lend_data['dti'].apply(lambda x: np.log10(x+1))\n",
    "numeric_plot('log_dti','DTI')"
   ]
  },
  {
   "cell_type": "code",
   "execution_count": 23,
   "metadata": {},
   "outputs": [
    {
     "data": {
      "text/html": [
       "<div>\n",
       "<style scoped>\n",
       "    .dataframe tbody tr th:only-of-type {\n",
       "        vertical-align: middle;\n",
       "    }\n",
       "\n",
       "    .dataframe tbody tr th {\n",
       "        vertical-align: top;\n",
       "    }\n",
       "\n",
       "    .dataframe thead th {\n",
       "        text-align: right;\n",
       "    }\n",
       "</style>\n",
       "<table border=\"1\" class=\"dataframe\">\n",
       "  <thead>\n",
       "    <tr style=\"text-align: right;\">\n",
       "      <th></th>\n",
       "      <th>count</th>\n",
       "      <th>mean</th>\n",
       "      <th>std</th>\n",
       "      <th>min</th>\n",
       "      <th>25%</th>\n",
       "      <th>50%</th>\n",
       "      <th>75%</th>\n",
       "      <th>max</th>\n",
       "    </tr>\n",
       "    <tr>\n",
       "      <th>default_ind</th>\n",
       "      <th></th>\n",
       "      <th></th>\n",
       "      <th></th>\n",
       "      <th></th>\n",
       "      <th></th>\n",
       "      <th></th>\n",
       "      <th></th>\n",
       "      <th></th>\n",
       "    </tr>\n",
       "  </thead>\n",
       "  <tbody>\n",
       "    <tr>\n",
       "      <td>0</td>\n",
       "      <td>809502.0</td>\n",
       "      <td>18.103677</td>\n",
       "      <td>17.815005</td>\n",
       "      <td>0.0</td>\n",
       "      <td>11.84</td>\n",
       "      <td>17.57</td>\n",
       "      <td>23.88</td>\n",
       "      <td>9999.00</td>\n",
       "    </tr>\n",
       "    <tr>\n",
       "      <td>1</td>\n",
       "      <td>46467.0</td>\n",
       "      <td>18.444234</td>\n",
       "      <td>7.950591</td>\n",
       "      <td>0.0</td>\n",
       "      <td>12.61</td>\n",
       "      <td>18.38</td>\n",
       "      <td>24.14</td>\n",
       "      <td>39.98</td>\n",
       "    </tr>\n",
       "  </tbody>\n",
       "</table>\n",
       "</div>"
      ],
      "text/plain": [
       "                count       mean        std  min    25%    50%    75%      max\n",
       "default_ind                                                                   \n",
       "0            809502.0  18.103677  17.815005  0.0  11.84  17.57  23.88  9999.00\n",
       "1             46467.0  18.444234   7.950591  0.0  12.61  18.38  24.14    39.98"
      ]
     },
     "execution_count": 23,
     "metadata": {},
     "output_type": "execute_result"
    }
   ],
   "source": [
    "lend_data.groupby('default_ind')['dti'].describe()"
   ]
  },
  {
   "cell_type": "code",
   "execution_count": 24,
   "metadata": {},
   "outputs": [],
   "source": [
    "lend_data.drop('log_dti', axis=1, inplace=True)"
   ]
  },
  {
   "cell_type": "markdown",
   "metadata": {},
   "source": [
    "Inference: DTI has skewed distribution."
   ]
  },
  {
   "cell_type": "markdown",
   "metadata": {},
   "source": [
    "# Revolving Balance"
   ]
  },
  {
   "cell_type": "code",
   "execution_count": 25,
   "metadata": {},
   "outputs": [],
   "source": [
    "lend_data['log_revol_bal'] = lend_data['revol_bal'].apply(lambda x: np.log10(x+1))"
   ]
  },
  {
   "cell_type": "code",
   "execution_count": 26,
   "metadata": {},
   "outputs": [
    {
     "data": {
      "image/png": "[encoded data removed]",
      "text/plain": [
       "<Figure size 1080x270 with 2 Axes>"
      ]
     },
     "metadata": {
      "needs_background": "light"
     },
     "output_type": "display_data"
    }
   ],
   "source": [
    "numeric_plot('log_revol_bal','Revol balance')"
   ]
  },
  {
   "cell_type": "code",
   "execution_count": 27,
   "metadata": {},
   "outputs": [
    {
     "data": {
      "text/html": [
       "<div>\n",
       "<style scoped>\n",
       "    .dataframe tbody tr th:only-of-type {\n",
       "        vertical-align: middle;\n",
       "    }\n",
       "\n",
       "    .dataframe tbody tr th {\n",
       "        vertical-align: top;\n",
       "    }\n",
       "\n",
       "    .dataframe thead th {\n",
       "        text-align: right;\n",
       "    }\n",
       "</style>\n",
       "<table border=\"1\" class=\"dataframe\">\n",
       "  <thead>\n",
       "    <tr style=\"text-align: right;\">\n",
       "      <th></th>\n",
       "      <th>count</th>\n",
       "      <th>mean</th>\n",
       "      <th>std</th>\n",
       "      <th>min</th>\n",
       "      <th>25%</th>\n",
       "      <th>50%</th>\n",
       "      <th>75%</th>\n",
       "      <th>max</th>\n",
       "    </tr>\n",
       "    <tr>\n",
       "      <th>default_ind</th>\n",
       "      <th></th>\n",
       "      <th></th>\n",
       "      <th></th>\n",
       "      <th></th>\n",
       "      <th></th>\n",
       "      <th></th>\n",
       "      <th></th>\n",
       "      <th></th>\n",
       "    </tr>\n",
       "  </thead>\n",
       "  <tbody>\n",
       "    <tr>\n",
       "      <td>0</td>\n",
       "      <td>809502.0</td>\n",
       "      <td>4.032126</td>\n",
       "      <td>0.493767</td>\n",
       "      <td>0.0</td>\n",
       "      <td>3.811709</td>\n",
       "      <td>4.077004</td>\n",
       "      <td>4.321510</td>\n",
       "      <td>6.463122</td>\n",
       "    </tr>\n",
       "    <tr>\n",
       "      <td>1</td>\n",
       "      <td>46467.0</td>\n",
       "      <td>3.986204</td>\n",
       "      <td>0.531501</td>\n",
       "      <td>0.0</td>\n",
       "      <td>3.794314</td>\n",
       "      <td>4.054996</td>\n",
       "      <td>4.283618</td>\n",
       "      <td>6.242223</td>\n",
       "    </tr>\n",
       "  </tbody>\n",
       "</table>\n",
       "</div>"
      ],
      "text/plain": [
       "                count      mean       std  min       25%       50%       75%  \\\n",
       "default_ind                                                                    \n",
       "0            809502.0  4.032126  0.493767  0.0  3.811709  4.077004  4.321510   \n",
       "1             46467.0  3.986204  0.531501  0.0  3.794314  4.054996  4.283618   \n",
       "\n",
       "                  max  \n",
       "default_ind            \n",
       "0            6.463122  \n",
       "1            6.242223  "
      ]
     },
     "execution_count": 27,
     "metadata": {},
     "output_type": "execute_result"
    }
   ],
   "source": [
    "lend_data.groupby('default_ind')['log_revol_bal'].describe()"
   ]
  },
  {
   "cell_type": "code",
   "execution_count": 28,
   "metadata": {},
   "outputs": [],
   "source": [
    "lend_data.drop('log_revol_bal', axis=1, inplace=True)"
   ]
  },
  {
   "cell_type": "markdown",
   "metadata": {},
   "source": [
    "Inference: Revolving Balance doesnt seem have to any significance on loan status"
   ]
  },
  {
   "cell_type": "markdown",
   "metadata": {},
   "source": [
    "# Revolving Line Utilization "
   ]
  },
  {
   "cell_type": "code",
   "execution_count": 29,
   "metadata": {},
   "outputs": [
    {
     "data": {
      "image/png": "[encoded data removed]",
      "text/plain": [
       "<Figure size 1080x270 with 2 Axes>"
      ]
     },
     "metadata": {
      "needs_background": "light"
     },
     "output_type": "display_data"
    }
   ],
   "source": [
    "numeric_plot('revol_util','Revol Util')"
   ]
  },
  {
   "cell_type": "code",
   "execution_count": 30,
   "metadata": {},
   "outputs": [
    {
     "data": {
      "text/html": [
       "<div>\n",
       "<style scoped>\n",
       "    .dataframe tbody tr th:only-of-type {\n",
       "        vertical-align: middle;\n",
       "    }\n",
       "\n",
       "    .dataframe tbody tr th {\n",
       "        vertical-align: top;\n",
       "    }\n",
       "\n",
       "    .dataframe thead th {\n",
       "        text-align: right;\n",
       "    }\n",
       "</style>\n",
       "<table border=\"1\" class=\"dataframe\">\n",
       "  <thead>\n",
       "    <tr style=\"text-align: right;\">\n",
       "      <th></th>\n",
       "      <th>count</th>\n",
       "      <th>mean</th>\n",
       "      <th>std</th>\n",
       "      <th>min</th>\n",
       "      <th>25%</th>\n",
       "      <th>50%</th>\n",
       "      <th>75%</th>\n",
       "      <th>max</th>\n",
       "    </tr>\n",
       "    <tr>\n",
       "      <th>default_ind</th>\n",
       "      <th></th>\n",
       "      <th></th>\n",
       "      <th></th>\n",
       "      <th></th>\n",
       "      <th></th>\n",
       "      <th></th>\n",
       "      <th></th>\n",
       "      <th></th>\n",
       "    </tr>\n",
       "  </thead>\n",
       "  <tbody>\n",
       "    <tr>\n",
       "      <td>0</td>\n",
       "      <td>809502.0</td>\n",
       "      <td>54.766177</td>\n",
       "      <td>23.799776</td>\n",
       "      <td>0.0</td>\n",
       "      <td>37.4</td>\n",
       "      <td>55.6</td>\n",
       "      <td>73.2</td>\n",
       "      <td>892.3</td>\n",
       "    </tr>\n",
       "    <tr>\n",
       "      <td>1</td>\n",
       "      <td>46467.0</td>\n",
       "      <td>59.439342</td>\n",
       "      <td>23.467230</td>\n",
       "      <td>0.0</td>\n",
       "      <td>43.2</td>\n",
       "      <td>61.5</td>\n",
       "      <td>78.0</td>\n",
       "      <td>129.4</td>\n",
       "    </tr>\n",
       "  </tbody>\n",
       "</table>\n",
       "</div>"
      ],
      "text/plain": [
       "                count       mean        std  min   25%   50%   75%    max\n",
       "default_ind                                                              \n",
       "0            809502.0  54.766177  23.799776  0.0  37.4  55.6  73.2  892.3\n",
       "1             46467.0  59.439342  23.467230  0.0  43.2  61.5  78.0  129.4"
      ]
     },
     "execution_count": 30,
     "metadata": {},
     "output_type": "execute_result"
    }
   ],
   "source": [
    "lend_data.groupby('default_ind')['revol_util'].describe()"
   ]
  },
  {
   "cell_type": "markdown",
   "metadata": {},
   "source": [
    "Inference: There is no particular trend to infer anything about this variable"
   ]
  },
  {
   "cell_type": "markdown",
   "metadata": {},
   "source": [
    "# Total Collection Amount"
   ]
  },
  {
   "cell_type": "code",
   "execution_count": 31,
   "metadata": {},
   "outputs": [
    {
     "data": {
      "text/plain": [
       "count    8.559690e+05\n",
       "mean     2.076865e+02\n",
       "std      1.006874e+04\n",
       "min      0.000000e+00\n",
       "25%      0.000000e+00\n",
       "50%      0.000000e+00\n",
       "75%      0.000000e+00\n",
       "max      9.152545e+06\n",
       "Name: tot_coll_amt, dtype: float64"
      ]
     },
     "execution_count": 31,
     "metadata": {},
     "output_type": "execute_result"
    }
   ],
   "source": [
    "lend_data['tot_coll_amt'].describe()"
   ]
  },
  {
   "cell_type": "markdown",
   "metadata": {},
   "source": [
    "Inference: Since 75% of the total collection amount is 0, it will behave like a constant hence drop variable."
   ]
  },
  {
   "cell_type": "code",
   "execution_count": 32,
   "metadata": {},
   "outputs": [],
   "source": [
    "lend_data=lend_data.drop(['tot_coll_amt'],axis=1)"
   ]
  },
  {
   "cell_type": "markdown",
   "metadata": {},
   "source": [
    "# Total Current Balance"
   ]
  },
  {
   "cell_type": "code",
   "execution_count": 33,
   "metadata": {},
   "outputs": [],
   "source": [
    "lend_data['log_cur_bal'] = lend_data['tot_cur_bal'].apply(lambda x: np.log10(x+1))"
   ]
  },
  {
   "cell_type": "code",
   "execution_count": 34,
   "metadata": {},
   "outputs": [
    {
     "data": {
      "image/png": "[encoded data removed]",
      "text/plain": [
       "<Figure size 1080x270 with 2 Axes>"
      ]
     },
     "metadata": {
      "needs_background": "light"
     },
     "output_type": "display_data"
    }
   ],
   "source": [
    "numeric_plot('log_cur_bal','Total Cur bal')"
   ]
  },
  {
   "cell_type": "code",
   "execution_count": 35,
   "metadata": {},
   "outputs": [
    {
     "data": {
      "text/html": [
       "<div>\n",
       "<style scoped>\n",
       "    .dataframe tbody tr th:only-of-type {\n",
       "        vertical-align: middle;\n",
       "    }\n",
       "\n",
       "    .dataframe tbody tr th {\n",
       "        vertical-align: top;\n",
       "    }\n",
       "\n",
       "    .dataframe thead th {\n",
       "        text-align: right;\n",
       "    }\n",
       "</style>\n",
       "<table border=\"1\" class=\"dataframe\">\n",
       "  <thead>\n",
       "    <tr style=\"text-align: right;\">\n",
       "      <th></th>\n",
       "      <th>count</th>\n",
       "      <th>mean</th>\n",
       "      <th>std</th>\n",
       "      <th>min</th>\n",
       "      <th>25%</th>\n",
       "      <th>50%</th>\n",
       "      <th>75%</th>\n",
       "      <th>max</th>\n",
       "    </tr>\n",
       "    <tr>\n",
       "      <th>default_ind</th>\n",
       "      <th></th>\n",
       "      <th></th>\n",
       "      <th></th>\n",
       "      <th></th>\n",
       "      <th></th>\n",
       "      <th></th>\n",
       "      <th></th>\n",
       "      <th></th>\n",
       "    </tr>\n",
       "  </thead>\n",
       "  <tbody>\n",
       "    <tr>\n",
       "      <td>0</td>\n",
       "      <td>809502.0</td>\n",
       "      <td>4.877756</td>\n",
       "      <td>0.524578</td>\n",
       "      <td>0.0</td>\n",
       "      <td>4.508691</td>\n",
       "      <td>4.908536</td>\n",
       "      <td>5.299915</td>\n",
       "      <td>6.903094</td>\n",
       "    </tr>\n",
       "    <tr>\n",
       "      <td>1</td>\n",
       "      <td>46467.0</td>\n",
       "      <td>4.814126</td>\n",
       "      <td>0.474351</td>\n",
       "      <td>0.0</td>\n",
       "      <td>4.506201</td>\n",
       "      <td>4.908536</td>\n",
       "      <td>5.139309</td>\n",
       "      <td>6.536215</td>\n",
       "    </tr>\n",
       "  </tbody>\n",
       "</table>\n",
       "</div>"
      ],
      "text/plain": [
       "                count      mean       std  min       25%       50%       75%  \\\n",
       "default_ind                                                                    \n",
       "0            809502.0  4.877756  0.524578  0.0  4.508691  4.908536  5.299915   \n",
       "1             46467.0  4.814126  0.474351  0.0  4.506201  4.908536  5.139309   \n",
       "\n",
       "                  max  \n",
       "default_ind            \n",
       "0            6.903094  \n",
       "1            6.536215  "
      ]
     },
     "execution_count": 35,
     "metadata": {},
     "output_type": "execute_result"
    }
   ],
   "source": [
    "lend_data.groupby('default_ind')['log_cur_bal'].describe()"
   ]
  },
  {
   "cell_type": "code",
   "execution_count": 36,
   "metadata": {},
   "outputs": [],
   "source": [
    "lend_data.drop('log_cur_bal', axis=1, inplace=True)"
   ]
  },
  {
   "cell_type": "markdown",
   "metadata": {},
   "source": [
    "Inference: Total current balance has skewed distribution."
   ]
  },
  {
   "cell_type": "markdown",
   "metadata": {},
   "source": [
    "# Total Revolving High Limit"
   ]
  },
  {
   "cell_type": "code",
   "execution_count": 37,
   "metadata": {},
   "outputs": [],
   "source": [
    "lend_data['log_rev_lim'] = lend_data['total_rev_hi_lim'].apply(lambda x: np.log10(x+1))"
   ]
  },
  {
   "cell_type": "code",
   "execution_count": 38,
   "metadata": {},
   "outputs": [
    {
     "data": {
      "image/png": "[encoded data removed]",
      "text/plain": [
       "<Figure size 1080x270 with 2 Axes>"
      ]
     },
     "metadata": {
      "needs_background": "light"
     },
     "output_type": "display_data"
    }
   ],
   "source": [
    "numeric_plot('log_rev_lim','Tot rev hi lim')"
   ]
  },
  {
   "cell_type": "code",
   "execution_count": 39,
   "metadata": {},
   "outputs": [
    {
     "data": {
      "text/html": [
       "<div>\n",
       "<style scoped>\n",
       "    .dataframe tbody tr th:only-of-type {\n",
       "        vertical-align: middle;\n",
       "    }\n",
       "\n",
       "    .dataframe tbody tr th {\n",
       "        vertical-align: top;\n",
       "    }\n",
       "\n",
       "    .dataframe thead th {\n",
       "        text-align: right;\n",
       "    }\n",
       "</style>\n",
       "<table border=\"1\" class=\"dataframe\">\n",
       "  <thead>\n",
       "    <tr style=\"text-align: right;\">\n",
       "      <th></th>\n",
       "      <th>count</th>\n",
       "      <th>mean</th>\n",
       "      <th>std</th>\n",
       "      <th>min</th>\n",
       "      <th>25%</th>\n",
       "      <th>50%</th>\n",
       "      <th>75%</th>\n",
       "      <th>max</th>\n",
       "    </tr>\n",
       "    <tr>\n",
       "      <th>default_ind</th>\n",
       "      <th></th>\n",
       "      <th></th>\n",
       "      <th></th>\n",
       "      <th></th>\n",
       "      <th></th>\n",
       "      <th></th>\n",
       "      <th></th>\n",
       "      <th></th>\n",
       "    </tr>\n",
       "  </thead>\n",
       "  <tbody>\n",
       "    <tr>\n",
       "      <td>0</td>\n",
       "      <td>809502.0</td>\n",
       "      <td>4.370446</td>\n",
       "      <td>0.346948</td>\n",
       "      <td>0.0</td>\n",
       "      <td>4.170291</td>\n",
       "      <td>4.376595</td>\n",
       "      <td>4.585472</td>\n",
       "      <td>7.000000</td>\n",
       "    </tr>\n",
       "    <tr>\n",
       "      <td>1</td>\n",
       "      <td>46467.0</td>\n",
       "      <td>4.314378</td>\n",
       "      <td>0.308831</td>\n",
       "      <td>0.0</td>\n",
       "      <td>4.161398</td>\n",
       "      <td>4.376595</td>\n",
       "      <td>4.460913</td>\n",
       "      <td>6.300748</td>\n",
       "    </tr>\n",
       "  </tbody>\n",
       "</table>\n",
       "</div>"
      ],
      "text/plain": [
       "                count      mean       std  min       25%       50%       75%  \\\n",
       "default_ind                                                                    \n",
       "0            809502.0  4.370446  0.346948  0.0  4.170291  4.376595  4.585472   \n",
       "1             46467.0  4.314378  0.308831  0.0  4.161398  4.376595  4.460913   \n",
       "\n",
       "                  max  \n",
       "default_ind            \n",
       "0            7.000000  \n",
       "1            6.300748  "
      ]
     },
     "execution_count": 39,
     "metadata": {},
     "output_type": "execute_result"
    }
   ],
   "source": [
    "lend_data.groupby('default_ind')['log_rev_lim'].describe()"
   ]
  },
  {
   "cell_type": "code",
   "execution_count": 40,
   "metadata": {},
   "outputs": [],
   "source": [
    "lend_data.drop('log_rev_lim', axis=1, inplace=True)"
   ]
  },
  {
   "cell_type": "markdown",
   "metadata": {},
   "source": [
    "\n",
    "Inference: Total revolving high limit is slightly less for Defaulted Loans."
   ]
  },
  {
   "cell_type": "markdown",
   "metadata": {},
   "source": [
    "# Categorical  Data "
   ]
  },
  {
   "cell_type": "code",
   "execution_count": 41,
   "metadata": {},
   "outputs": [],
   "source": [
    "def categorical_plot(col_name, full_name):\n",
    "    f, (ax1, ax2) = plt.subplots(nrows=1, ncols=2, figsize=(12,3), dpi=90)\n",
    "    sns.countplot(lend_data[col_name], order=sorted(lend_data[col_name].unique()), color='#5975A4', \n",
    "                  saturation=1, ax=ax1)\n",
    "    ax1.set_xlabel(full_name)\n",
    "    ax1.set_ylabel('Count')\n",
    "    ax1.set_title(full_name)\n",
    "    \n",
    "    charge_off_rates = lend_data.groupby(col_name)['default_ind'].value_counts(normalize=True).loc[:,1]\n",
    "    sns.barplot(x=charge_off_rates.index, y=charge_off_rates.values, color='#5975A4', saturation=1, ax=ax2)\n",
    "    ax2.set_ylabel('Fraction of defaulted Loans ')\n",
    "    ax2.set_title('Default Rate by ' + full_name)\n",
    "    ax2.set_xlabel(full_name)"
   ]
  },
  {
   "cell_type": "markdown",
   "metadata": {},
   "source": [
    "# Term"
   ]
  },
  {
   "cell_type": "code",
   "execution_count": 42,
   "metadata": {},
   "outputs": [
    {
     "data": {
      "image/png": "[encoded data removed]",
      "text/plain": [
       "<Figure size 1080x270 with 2 Axes>"
      ]
     },
     "metadata": {
      "needs_background": "light"
     },
     "output_type": "display_data"
    }
   ],
   "source": [
    "categorical_plot('term','Term')"
   ]
  },
  {
   "cell_type": "code",
   "execution_count": 43,
   "metadata": {},
   "outputs": [],
   "source": [
    "lend_data['term'] = lend_data['term'].apply(lambda s: np.int8(s.split()[0]))"
   ]
  },
  {
   "cell_type": "code",
   "execution_count": 44,
   "metadata": {},
   "outputs": [
    {
     "data": {
      "text/plain": [
       "36    0.701218\n",
       "60    0.298782\n",
       "Name: term, dtype: float64"
      ]
     },
     "execution_count": 44,
     "metadata": {},
     "output_type": "execute_result"
    }
   ],
   "source": [
    "lend_data['term'].value_counts(normalize=True)"
   ]
  },
  {
   "cell_type": "code",
   "execution_count": 45,
   "metadata": {},
   "outputs": [
    {
     "data": {
      "text/plain": [
       "term\n",
       "36    0.049645\n",
       "60    0.065177\n",
       "Name: default_ind, dtype: float64"
      ]
     },
     "execution_count": 45,
     "metadata": {},
     "output_type": "execute_result"
    }
   ],
   "source": [
    "lend_data.groupby('term')['default_ind'].value_counts(normalize=True).loc[:,1]"
   ]
  },
  {
   "cell_type": "markdown",
   "metadata": {},
   "source": [
    "Inference: About 70% of the completed loans have three-year periods, and the rest have five-year periods. \n",
    "Loans with five-year periods are more than twice as likely to charge-off as loans with three-year periods."
   ]
  },
  {
   "cell_type": "markdown",
   "metadata": {},
   "source": [
    "# Grade"
   ]
  },
  {
   "cell_type": "code",
   "execution_count": 46,
   "metadata": {},
   "outputs": [
    {
     "data": {
      "image/png": "[encoded data removed]",
      "text/plain": [
       "<Figure size 1080x270 with 2 Axes>"
      ]
     },
     "metadata": {
      "needs_background": "light"
     },
     "output_type": "display_data"
    }
   ],
   "source": [
    "categorical_plot('grade','Grade')"
   ]
  },
  {
   "cell_type": "code",
   "execution_count": 47,
   "metadata": {},
   "outputs": [],
   "source": [
    "grade_map={'A':1,'B':2,'C':3,'D':4,'E':5,'F':6,'G':7}\n",
    "lend_data['grade']=lend_data['grade'].map(grade_map)"
   ]
  },
  {
   "cell_type": "markdown",
   "metadata": {},
   "source": [
    "Inference: There's a clear trend of higher percentage of default loans as the grade goes from A to F."
   ]
  },
  {
   "cell_type": "markdown",
   "metadata": {},
   "source": [
    "# Employment length"
   ]
  },
  {
   "cell_type": "code",
   "execution_count": 48,
   "metadata": {},
   "outputs": [],
   "source": [
    "lend_data['emp_length'].replace(to_replace='10+ years', value='10 years', inplace=True)\n",
    "lend_data['emp_length'].replace('< 1 year', '0 years', inplace=True)"
   ]
  },
  {
   "cell_type": "code",
   "execution_count": 49,
   "metadata": {},
   "outputs": [],
   "source": [
    "def emp_length_to_int(s):\n",
    "    if pd.isnull(s):\n",
    "        return s\n",
    "    else:\n",
    "        return np.int8(s.split()[0])"
   ]
  },
  {
   "cell_type": "code",
   "execution_count": 50,
   "metadata": {},
   "outputs": [],
   "source": [
    "lend_data['emp_length'] = lend_data['emp_length'].apply(emp_length_to_int)"
   ]
  },
  {
   "cell_type": "code",
   "execution_count": 51,
   "metadata": {},
   "outputs": [
    {
     "data": {
      "image/png": "[encoded data removed]",
      "text/plain": [
       "<Figure size 1080x270 with 2 Axes>"
      ]
     },
     "metadata": {
      "needs_background": "light"
     },
     "output_type": "display_data"
    }
   ],
   "source": [
    "categorical_plot('emp_length','Emp length')"
   ]
  },
  {
   "cell_type": "markdown",
   "metadata": {},
   "source": [
    "Inference: Loan status does not appear to vary much with employment length on average, except for a small drop \n",
    "in default loans for borrowers with over 10 years of employment."
   ]
  },
  {
   "cell_type": "markdown",
   "metadata": {},
   "source": [
    "# Home Ownership"
   ]
  },
  {
   "cell_type": "code",
   "execution_count": 52,
   "metadata": {},
   "outputs": [
    {
     "data": {
      "text/plain": [
       "MORTGAGE    429106\n",
       "RENT        342535\n",
       "OWN          84136\n",
       "OTHER          144\n",
       "NONE            45\n",
       "ANY              3\n",
       "Name: home_ownership, dtype: int64"
      ]
     },
     "execution_count": 52,
     "metadata": {},
     "output_type": "execute_result"
    }
   ],
   "source": [
    "lend_data['home_ownership'].value_counts()"
   ]
  },
  {
   "cell_type": "code",
   "execution_count": 53,
   "metadata": {},
   "outputs": [],
   "source": [
    "lend_data['home_ownership'].replace(['NONE','ANY'],'OTHER',inplace=True)"
   ]
  },
  {
   "cell_type": "code",
   "execution_count": 54,
   "metadata": {},
   "outputs": [
    {
     "data": {
      "text/plain": [
       "MORTGAGE    429106\n",
       "RENT        342535\n",
       "OWN          84136\n",
       "OTHER          192\n",
       "Name: home_ownership, dtype: int64"
      ]
     },
     "execution_count": 54,
     "metadata": {},
     "output_type": "execute_result"
    }
   ],
   "source": [
    "lend_data['home_ownership'].value_counts()"
   ]
  },
  {
   "cell_type": "code",
   "execution_count": 55,
   "metadata": {},
   "outputs": [
    {
     "data": {
      "image/png": "[encoded data removed]",
      "text/plain": [
       "<Figure size 1080x270 with 2 Axes>"
      ]
     },
     "metadata": {
      "needs_background": "light"
     },
     "output_type": "display_data"
    }
   ],
   "source": [
    "categorical_plot('home_ownership','Home Ownership')"
   ]
  },
  {
   "cell_type": "code",
   "execution_count": 56,
   "metadata": {},
   "outputs": [
    {
     "data": {
      "text/plain": [
       "home_ownership\n",
       "MORTGAGE    0.047485\n",
       "OTHER       0.177083\n",
       "OWN         0.049147\n",
       "RENT        0.063999\n",
       "Name: default_ind, dtype: float64"
      ]
     },
     "execution_count": 56,
     "metadata": {},
     "output_type": "execute_result"
    }
   ],
   "source": [
    "lend_data.groupby('home_ownership')['default_ind'].value_counts(normalize=True).loc[:,1]"
   ]
  },
  {
   "cell_type": "markdown",
   "metadata": {},
   "source": [
    "Inference: There is large differences in default rates by home ownership status. \n",
    "Renters and others have a higher probability of default."
   ]
  },
  {
   "cell_type": "markdown",
   "metadata": {},
   "source": [
    "# Verification Status"
   ]
  },
  {
   "cell_type": "code",
   "execution_count": 57,
   "metadata": {},
   "outputs": [
    {
     "data": {
      "image/png": "[encoded data removed]",
      "text/plain": [
       "<Figure size 1080x270 with 2 Axes>"
      ]
     },
     "metadata": {
      "needs_background": "light"
     },
     "output_type": "display_data"
    }
   ],
   "source": [
    "categorical_plot('verification_status','Verification Status')"
   ]
  },
  {
   "cell_type": "code",
   "execution_count": 58,
   "metadata": {},
   "outputs": [
    {
     "data": {
      "text/plain": [
       "verification_status\n",
       "Not Verified       0.048444\n",
       "Source Verified    0.044635\n",
       "Verified           0.070627\n",
       "Name: default_ind, dtype: float64"
      ]
     },
     "execution_count": 58,
     "metadata": {},
     "output_type": "execute_result"
    }
   ],
   "source": [
    "lend_data.groupby('verification_status')['default_ind'].value_counts(normalize=True).loc[:,1]"
   ]
  },
  {
   "cell_type": "markdown",
   "metadata": {},
   "source": [
    "Inference: Borrowers with verification status =\"verified\" seem to default loan more than other 2 status."
   ]
  },
  {
   "cell_type": "markdown",
   "metadata": {},
   "source": [
    "# Payment Plan"
   ]
  },
  {
   "cell_type": "code",
   "execution_count": 59,
   "metadata": {},
   "outputs": [
    {
     "data": {
      "text/plain": [
       "n    855964\n",
       "y         5\n",
       "Name: pymnt_plan, dtype: int64"
      ]
     },
     "execution_count": 59,
     "metadata": {},
     "output_type": "execute_result"
    }
   ],
   "source": [
    "lend_data['pymnt_plan'].value_counts()"
   ]
  },
  {
   "cell_type": "markdown",
   "metadata": {},
   "source": [
    "Inference: More than 99% values are \"N\" , which is equivalent to a constant. Hence can drop this variable."
   ]
  },
  {
   "cell_type": "code",
   "execution_count": 60,
   "metadata": {},
   "outputs": [],
   "source": [
    "lend_data=lend_data.drop(['pymnt_plan'],axis=1)"
   ]
  },
  {
   "cell_type": "markdown",
   "metadata": {},
   "source": [
    "# Purpose"
   ]
  },
  {
   "cell_type": "code",
   "execution_count": 61,
   "metadata": {},
   "outputs": [
    {
     "data": {
      "text/plain": [
       "debt_consolidation    505392\n",
       "credit_card           200144\n",
       "home_improvement       49956\n",
       "other                  40949\n",
       "major_purchase         16587\n",
       "small_business          9785\n",
       "car                     8593\n",
       "medical                 8193\n",
       "moving                  5160\n",
       "vacation                4542\n",
       "house                   3513\n",
       "wedding                 2280\n",
       "renewable_energy         549\n",
       "educational              326\n",
       "Name: purpose, dtype: int64"
      ]
     },
     "execution_count": 61,
     "metadata": {},
     "output_type": "execute_result"
    }
   ],
   "source": [
    "lend_data['purpose'].value_counts()"
   ]
  },
  {
   "cell_type": "code",
   "execution_count": 62,
   "metadata": {},
   "outputs": [
    {
     "data": {
      "text/plain": [
       "Text(0, 0.5, 'Purpose')"
      ]
     },
     "execution_count": 62,
     "metadata": {},
     "output_type": "execute_result"
    },
    {
     "data": {
      "image/png": "[encoded data removed]",
      "text/plain": [
       "<Figure size 900x900 with 2 Axes>"
      ]
     },
     "metadata": {
      "needs_background": "light"
     },
     "output_type": "display_data"
    }
   ],
   "source": [
    "\n",
    "f, (ax1, ax2) = plt.subplots(nrows=2, ncols=1, figsize=(10,10), dpi=90)\n",
    "sns.countplot(y=lend_data['purpose'], order=sorted(lend_data['purpose'].unique()), color='#5975A4',\n",
    "              saturation=1, ax=ax1)\n",
    "ax1.set_xlabel('Count')\n",
    "ax1.set_ylabel('Purpose')\n",
    "ax1.set_title('Purpose')\n",
    "charge_off_rates = lend_data.groupby('purpose')['default_ind'].value_counts(normalize=True).loc[:,1]\n",
    "sns.barplot(y=charge_off_rates.index, x=charge_off_rates.values, color='#5975A4', saturation=1, ax=ax2)\n",
    "ax2.set_xlabel('Fraction of defaulted Loans ')\n",
    "ax2.set_title('Default Rate by Purpose')\n",
    "ax2.set_ylabel('Purpose')"
   ]
  },
  {
   "cell_type": "code",
   "execution_count": 63,
   "metadata": {},
   "outputs": [
    {
     "data": {
      "text/plain": [
       "purpose\n",
       "credit_card           0.040266\n",
       "home_improvement      0.046361\n",
       "car                   0.053299\n",
       "major_purchase        0.053536\n",
       "debt_consolidation    0.056172\n",
       "vacation              0.061207\n",
       "medical               0.071280\n",
       "other                 0.073286\n",
       "house                 0.083404\n",
       "moving                0.084496\n",
       "renewable_energy      0.098361\n",
       "wedding               0.116228\n",
       "small_business        0.142054\n",
       "educational           0.171779\n",
       "Name: default_ind, dtype: float64"
      ]
     },
     "execution_count": 63,
     "metadata": {},
     "output_type": "execute_result"
    }
   ],
   "source": [
    "lend_data.groupby('purpose')['default_ind'].value_counts(normalize=True).loc[:,1].sort_values()"
   ]
  },
  {
   "cell_type": "markdown",
   "metadata": {},
   "source": [
    "Inference: credit_card has least default rate where as small business and education has higher default rates."
   ]
  },
  {
   "cell_type": "markdown",
   "metadata": {},
   "source": [
    "# Address State"
   ]
  },
  {
   "cell_type": "code",
   "execution_count": 64,
   "metadata": {},
   "outputs": [
    {
     "data": {
      "text/plain": [
       "Text(0, 0.5, 'Address State')"
      ]
     },
     "execution_count": 64,
     "metadata": {},
     "output_type": "execute_result"
    },
    {
     "data": {
      "image/png": "[encoded data removed]",
      "text/plain": [
       "<Figure size 1080x900 with 2 Axes>"
      ]
     },
     "metadata": {
      "needs_background": "light"
     },
     "output_type": "display_data"
    }
   ],
   "source": [
    "\n",
    "f, (ax1, ax2) = plt.subplots(nrows=2, ncols=1, figsize=(12,10), dpi=90)\n",
    "sns.countplot(y=lend_data['addr_state'], order=sorted(lend_data['addr_state'].unique()),  color='#5975A4',\n",
    "              saturation=1, ax=ax1)\n",
    "ax1.set_xlabel('Count')\n",
    "ax1.set_ylabel('Address State')\n",
    "ax1.set_title('Address State')\n",
    "charge_off_rates = lend_data.groupby('addr_state')['default_ind'].value_counts(normalize=True).loc[:,1]\n",
    "sns.barplot(y=charge_off_rates.index, x=charge_off_rates.values, color='#5975A4', saturation=1, ax=ax2)\n",
    "ax2.set_xlabel('Fraction of defaulted Loans ')\n",
    "ax2.set_title('Default Rate by Address State')\n",
    "ax2.set_ylabel('Address State')"
   ]
  },
  {
   "cell_type": "code",
   "execution_count": 65,
   "metadata": {},
   "outputs": [
    {
     "data": {
      "text/plain": [
       "addr_state\n",
       "NE    0.003559\n",
       "MS    0.024637\n",
       "DC    0.037364\n",
       "NH    0.038499\n",
       "WV    0.038851\n",
       "VT    0.040502\n",
       "MT    0.040957\n",
       "WY    0.042047\n",
       "CO    0.044424\n",
       "SC    0.045040\n",
       "IL    0.045667\n",
       "TX    0.045788\n",
       "AK    0.045923\n",
       "KS    0.046926\n",
       "TN    0.047208\n",
       "CT    0.047692\n",
       "IN    0.048322\n",
       "WI    0.049112\n",
       "GA    0.049781\n",
       "SD    0.052149\n",
       "RI    0.052225\n",
       "OR    0.052263\n",
       "DE    0.052456\n",
       "MA    0.052735\n",
       "PA    0.052760\n",
       "OH    0.052773\n",
       "MI    0.053303\n",
       "MN    0.053358\n",
       "WA    0.053571\n",
       "AR    0.053915\n",
       "KY    0.054344\n",
       "AZ    0.055248\n",
       "OK    0.055291\n",
       "MD    0.055569\n",
       "NC    0.056291\n",
       "LA    0.057334\n",
       "MO    0.057993\n",
       "VA    0.058136\n",
       "NM    0.058230\n",
       "NJ    0.058950\n",
       "UT    0.058960\n",
       "NY    0.059482\n",
       "CA    0.060261\n",
       "FL    0.061717\n",
       "AL    0.062523\n",
       "HI    0.064840\n",
       "NV    0.069328\n",
       "ID    0.111111\n",
       "IA    0.142857\n",
       "Name: default_ind, dtype: float64"
      ]
     },
     "execution_count": 65,
     "metadata": {},
     "output_type": "execute_result"
    }
   ],
   "source": [
    "lend_data.groupby('addr_state')['default_ind'].value_counts(normalize=True).loc[:,1].sort_values()"
   ]
  },
  {
   "cell_type": "markdown",
   "metadata": {},
   "source": [
    "The charge-off rate ranges from 2.4% in Mississippi, DC to 14.2% in Iowa."
   ]
  },
  {
   "cell_type": "markdown",
   "metadata": {},
   "source": [
    "# Policy Code"
   ]
  },
  {
   "cell_type": "code",
   "execution_count": 66,
   "metadata": {},
   "outputs": [
    {
     "data": {
      "text/plain": [
       "1.0    855969\n",
       "Name: policy_code, dtype: int64"
      ]
     },
     "execution_count": 66,
     "metadata": {},
     "output_type": "execute_result"
    }
   ],
   "source": [
    "lend_data['policy_code'].value_counts()"
   ]
  },
  {
   "cell_type": "markdown",
   "metadata": {},
   "source": [
    "Inference: There is only one unique policy code for all the loan applicants. Hence this variable will be dropped."
   ]
  },
  {
   "cell_type": "code",
   "execution_count": 67,
   "metadata": {},
   "outputs": [],
   "source": [
    "lend_data=lend_data.drop(['policy_code'],axis=1)"
   ]
  },
  {
   "cell_type": "markdown",
   "metadata": {},
   "source": [
    "# Application Type"
   ]
  },
  {
   "cell_type": "code",
   "execution_count": 68,
   "metadata": {},
   "outputs": [
    {
     "data": {
      "text/plain": [
       "INDIVIDUAL    0.999484\n",
       "JOINT         0.000516\n",
       "Name: application_type, dtype: float64"
      ]
     },
     "execution_count": 68,
     "metadata": {},
     "output_type": "execute_result"
    }
   ],
   "source": [
    "lend_data['application_type'].value_counts(normalize=True)"
   ]
  },
  {
   "cell_type": "code",
   "execution_count": 69,
   "metadata": {},
   "outputs": [
    {
     "data": {
      "image/png": "[encoded data removed]",
      "text/plain": [
       "<Figure size 1080x270 with 2 Axes>"
      ]
     },
     "metadata": {
      "needs_background": "light"
     },
     "output_type": "display_data"
    }
   ],
   "source": [
    "categorical_plot('application_type','Application Type')"
   ]
  },
  {
   "cell_type": "markdown",
   "metadata": {},
   "source": [
    "Inference: More than 99.94% borrowers have \"Individual\" application type. Hence drop this variable."
   ]
  },
  {
   "cell_type": "code",
   "execution_count": 70,
   "metadata": {},
   "outputs": [],
   "source": [
    "lend_data=lend_data.drop(['application_type'],axis=1)"
   ]
  },
  {
   "cell_type": "markdown",
   "metadata": {},
   "source": [
    "# Collections 12 months excluding medical collections"
   ]
  },
  {
   "cell_type": "code",
   "execution_count": 71,
   "metadata": {},
   "outputs": [
    {
     "data": {
      "text/plain": [
       "0.0     0.986980\n",
       "1.0     0.012057\n",
       "2.0     0.000828\n",
       "3.0     0.000093\n",
       "4.0     0.000026\n",
       "5.0     0.000008\n",
       "6.0     0.000002\n",
       "7.0     0.000001\n",
       "16.0    0.000001\n",
       "20.0    0.000001\n",
       "14.0    0.000001\n",
       "10.0    0.000001\n",
       "Name: collections_12_mths_ex_med, dtype: float64"
      ]
     },
     "execution_count": 71,
     "metadata": {},
     "output_type": "execute_result"
    }
   ],
   "source": [
    "lend_data['collections_12_mths_ex_med'].value_counts(normalize=True)"
   ]
  },
  {
   "cell_type": "code",
   "execution_count": 72,
   "metadata": {},
   "outputs": [],
   "source": [
    "lend_data['collections_12_mths_ex_med'].replace([6.0,7.0,16.0,20.0,14.0,10.0],5.0,inplace=True)"
   ]
  },
  {
   "cell_type": "code",
   "execution_count": 73,
   "metadata": {
    "scrolled": true
   },
   "outputs": [
    {
     "data": {
      "image/png": "[encoded data removed]",
      "text/plain": [
       "<Figure size 1080x270 with 2 Axes>"
      ]
     },
     "metadata": {
      "needs_background": "light"
     },
     "output_type": "display_data"
    }
   ],
   "source": [
    "categorical_plot('collections_12_mths_ex_med','Collections12 Type')"
   ]
  },
  {
   "cell_type": "code",
   "execution_count": 74,
   "metadata": {},
   "outputs": [
    {
     "data": {
      "text/plain": [
       "collections_12_mths_ex_med\n",
       "0.0    0.054571\n",
       "1.0    0.033430\n",
       "2.0    0.025388\n",
       "4.0    0.045455\n",
       "Name: default_ind, dtype: float64"
      ]
     },
     "execution_count": 74,
     "metadata": {},
     "output_type": "execute_result"
    }
   ],
   "source": [
    "lend_data.groupby('collections_12_mths_ex_med')['default_ind'].value_counts(normalize=True).loc[:,1]"
   ]
  },
  {
   "cell_type": "markdown",
   "metadata": {},
   "source": [
    "Inference: More than 98% of this variable is 0, hence drop this variable."
   ]
  },
  {
   "cell_type": "code",
   "execution_count": 75,
   "metadata": {},
   "outputs": [],
   "source": [
    "lend_data=lend_data.drop(['collections_12_mths_ex_med'],axis=1)"
   ]
  },
  {
   "cell_type": "markdown",
   "metadata": {},
   "source": [
    "# Delinq_2_Years"
   ]
  },
  {
   "cell_type": "code",
   "execution_count": 76,
   "metadata": {},
   "outputs": [
    {
     "data": {
      "text/plain": [
       "0.0     0.809241\n",
       "1.0     0.127029\n",
       "2.0     0.037473\n",
       "3.0     0.013330\n",
       "4.0     0.005931\n",
       "5.0     0.003018\n",
       "6.0     0.001634\n",
       "7.0     0.000855\n",
       "8.0     0.000512\n",
       "9.0     0.000314\n",
       "10.0    0.000209\n",
       "11.0    0.000136\n",
       "12.0    0.000102\n",
       "13.0    0.000067\n",
       "14.0    0.000051\n",
       "15.0    0.000030\n",
       "16.0    0.000020\n",
       "18.0    0.000013\n",
       "17.0    0.000012\n",
       "19.0    0.000009\n",
       "22.0    0.000004\n",
       "26.0    0.000002\n",
       "30.0    0.000001\n",
       "21.0    0.000001\n",
       "20.0    0.000001\n",
       "39.0    0.000001\n",
       "27.0    0.000001\n",
       "29.0    0.000001\n",
       "24.0    0.000001\n",
       "Name: delinq_2yrs, dtype: float64"
      ]
     },
     "execution_count": 76,
     "metadata": {},
     "output_type": "execute_result"
    }
   ],
   "source": [
    "lend_data['delinq_2yrs'].value_counts(normalize=True)"
   ]
  },
  {
   "cell_type": "code",
   "execution_count": 77,
   "metadata": {},
   "outputs": [
    {
     "data": {
      "image/png": "[encoded data removed]",
      "text/plain": [
       "<Figure size 1080x270 with 2 Axes>"
      ]
     },
     "metadata": {
      "needs_background": "light"
     },
     "output_type": "display_data"
    }
   ],
   "source": [
    "categorical_plot('delinq_2yrs','delinq_2yrs')"
   ]
  },
  {
   "cell_type": "code",
   "execution_count": 78,
   "metadata": {},
   "outputs": [
    {
     "data": {
      "text/plain": [
       "delinq_2yrs\n",
       "13.0    0.017544\n",
       "14.0    0.022727\n",
       "8.0     0.029680\n",
       "11.0    0.034483\n",
       "15.0    0.038462\n",
       "6.0     0.040743\n",
       "9.0     0.040892\n",
       "4.0     0.044318\n",
       "10.0    0.044693\n",
       "5.0     0.049168\n",
       "2.0     0.049601\n",
       "1.0     0.049617\n",
       "3.0     0.049781\n",
       "7.0     0.050546\n",
       "0.0     0.055458\n",
       "18.0    0.090909\n",
       "17.0    0.100000\n",
       "12.0    0.126437\n",
       "Name: default_ind, dtype: float64"
      ]
     },
     "execution_count": 78,
     "metadata": {},
     "output_type": "execute_result"
    }
   ],
   "source": [
    "lend_data.groupby('delinq_2yrs')['default_ind'].value_counts(normalize=True).loc[:,1].sort_values()"
   ]
  },
  {
   "cell_type": "markdown",
   "metadata": {},
   "source": [
    "Inference: There is no particular trend to infer anything about this variable."
   ]
  },
  {
   "cell_type": "markdown",
   "metadata": {},
   "source": [
    "# Inquiries Last 6 months"
   ]
  },
  {
   "cell_type": "code",
   "execution_count": 79,
   "metadata": {},
   "outputs": [
    {
     "data": {
      "image/png": "[encoded data removed]",
      "text/plain": [
       "<Figure size 1080x270 with 2 Axes>"
      ]
     },
     "metadata": {
      "needs_background": "light"
     },
     "output_type": "display_data"
    }
   ],
   "source": [
    "categorical_plot('inq_last_6mths','inq_last_6mths')"
   ]
  },
  {
   "cell_type": "code",
   "execution_count": 80,
   "metadata": {},
   "outputs": [
    {
     "data": {
      "text/plain": [
       "inq_last_6mths\n",
       "0.0    0.041928\n",
       "1.0    0.059631\n",
       "2.0    0.080682\n",
       "4.0    0.087079\n",
       "5.0    0.091694\n",
       "3.0    0.104033\n",
       "6.0    0.155098\n",
       "8.0    0.181818\n",
       "7.0    0.250000\n",
       "Name: default_ind, dtype: float64"
      ]
     },
     "execution_count": 80,
     "metadata": {},
     "output_type": "execute_result"
    }
   ],
   "source": [
    "lend_data.groupby('inq_last_6mths')['default_ind'].value_counts(normalize=True).loc[:,1].sort_values()"
   ]
  },
  {
   "cell_type": "markdown",
   "metadata": {},
   "source": [
    "Inference: There is no particular trend to infer anything about this variable."
   ]
  },
  {
   "cell_type": "markdown",
   "metadata": {},
   "source": [
    "# Open Credit Lines"
   ]
  },
  {
   "cell_type": "code",
   "execution_count": 81,
   "metadata": {},
   "outputs": [
    {
     "data": {
      "text/plain": [
       "Text(0.5, 1.0, 'Number of Open Credit Lines')"
      ]
     },
     "execution_count": 81,
     "metadata": {},
     "output_type": "execute_result"
    },
    {
     "data": {
      "image/png": "[encoded data removed]",
      "text/plain": [
       "<Figure size 900x270 with 1 Axes>"
      ]
     },
     "metadata": {
      "needs_background": "light"
     },
     "output_type": "display_data"
    }
   ],
   "source": [
    "plt.figure(figsize=(10,3), dpi=90)\n",
    "sns.countplot(lend_data['open_acc'], order=sorted(lend_data['open_acc'].unique()), color='#5975A4', saturation=1)\n",
    "_, _ = plt.xticks(np.arange(0, 90, 5), np.arange(0, 90, 5))\n",
    "plt.title('Number of Open Credit Lines')"
   ]
  },
  {
   "cell_type": "code",
   "execution_count": 82,
   "metadata": {},
   "outputs": [
    {
     "data": {
      "text/html": [
       "<div>\n",
       "<style scoped>\n",
       "    .dataframe tbody tr th:only-of-type {\n",
       "        vertical-align: middle;\n",
       "    }\n",
       "\n",
       "    .dataframe tbody tr th {\n",
       "        vertical-align: top;\n",
       "    }\n",
       "\n",
       "    .dataframe thead th {\n",
       "        text-align: right;\n",
       "    }\n",
       "</style>\n",
       "<table border=\"1\" class=\"dataframe\">\n",
       "  <thead>\n",
       "    <tr style=\"text-align: right;\">\n",
       "      <th></th>\n",
       "      <th>count</th>\n",
       "      <th>mean</th>\n",
       "      <th>std</th>\n",
       "      <th>min</th>\n",
       "      <th>25%</th>\n",
       "      <th>50%</th>\n",
       "      <th>75%</th>\n",
       "      <th>max</th>\n",
       "    </tr>\n",
       "    <tr>\n",
       "      <th>default_ind</th>\n",
       "      <th></th>\n",
       "      <th></th>\n",
       "      <th></th>\n",
       "      <th></th>\n",
       "      <th></th>\n",
       "      <th></th>\n",
       "      <th></th>\n",
       "      <th></th>\n",
       "    </tr>\n",
       "  </thead>\n",
       "  <tbody>\n",
       "    <tr>\n",
       "      <td>0</td>\n",
       "      <td>809502.0</td>\n",
       "      <td>11.570042</td>\n",
       "      <td>5.327422</td>\n",
       "      <td>0.0</td>\n",
       "      <td>8.0</td>\n",
       "      <td>11.0</td>\n",
       "      <td>14.0</td>\n",
       "      <td>90.0</td>\n",
       "    </tr>\n",
       "    <tr>\n",
       "      <td>1</td>\n",
       "      <td>46467.0</td>\n",
       "      <td>11.061721</td>\n",
       "      <td>4.934646</td>\n",
       "      <td>0.0</td>\n",
       "      <td>8.0</td>\n",
       "      <td>10.0</td>\n",
       "      <td>14.0</td>\n",
       "      <td>76.0</td>\n",
       "    </tr>\n",
       "  </tbody>\n",
       "</table>\n",
       "</div>"
      ],
      "text/plain": [
       "                count       mean       std  min  25%   50%   75%   max\n",
       "default_ind                                                           \n",
       "0            809502.0  11.570042  5.327422  0.0  8.0  11.0  14.0  90.0\n",
       "1             46467.0  11.061721  4.934646  0.0  8.0  10.0  14.0  76.0"
      ]
     },
     "execution_count": 82,
     "metadata": {},
     "output_type": "execute_result"
    }
   ],
   "source": [
    "lend_data.groupby('default_ind')['open_acc'].describe()"
   ]
  },
  {
   "cell_type": "markdown",
   "metadata": {},
   "source": [
    "Inference:There is no difference in number of credit lines between paid loans and defaulted loans."
   ]
  },
  {
   "cell_type": "markdown",
   "metadata": {},
   "source": [
    "# Public Records"
   ]
  },
  {
   "cell_type": "code",
   "execution_count": 83,
   "metadata": {},
   "outputs": [
    {
     "data": {
      "text/plain": [
       "0.0     725455\n",
       "1.0     108920\n",
       "2.0      14250\n",
       "3.0       4305\n",
       "4.0       1496\n",
       "5.0        728\n",
       "6.0        366\n",
       "7.0        167\n",
       "8.0        110\n",
       "9.0         46\n",
       "10.0        41\n",
       "11.0        21\n",
       "12.0        14\n",
       "13.0        12\n",
       "14.0         2\n",
       "15.0         6\n",
       "16.0         5\n",
       "17.0         3\n",
       "18.0         5\n",
       "19.0         2\n",
       "21.0         4\n",
       "22.0         1\n",
       "23.0         1\n",
       "26.0         1\n",
       "28.0         1\n",
       "34.0         1\n",
       "40.0         1\n",
       "49.0         2\n",
       "54.0         1\n",
       "63.0         1\n",
       "86.0         1\n",
       "Name: pub_rec, dtype: int64"
      ]
     },
     "execution_count": 83,
     "metadata": {},
     "output_type": "execute_result"
    }
   ],
   "source": [
    "lend_data['pub_rec'].value_counts().sort_index()"
   ]
  },
  {
   "cell_type": "code",
   "execution_count": 84,
   "metadata": {},
   "outputs": [
    {
     "data": {
      "image/png": "[encoded data removed]",
      "text/plain": [
       "<Figure size 1080x270 with 2 Axes>"
      ]
     },
     "metadata": {
      "needs_background": "light"
     },
     "output_type": "display_data"
    }
   ],
   "source": [
    "categorical_plot('pub_rec','Public Records')"
   ]
  },
  {
   "cell_type": "code",
   "execution_count": 85,
   "metadata": {},
   "outputs": [
    {
     "data": {
      "text/plain": [
       "pub_rec\n",
       "6.0     0.024590\n",
       "3.0     0.028107\n",
       "7.0     0.029940\n",
       "4.0     0.030749\n",
       "2.0     0.035509\n",
       "5.0     0.035714\n",
       "9.0     0.043478\n",
       "1.0     0.046089\n",
       "0.0     0.056145\n",
       "12.0    0.071429\n",
       "Name: default_ind, dtype: float64"
      ]
     },
     "execution_count": 85,
     "metadata": {},
     "output_type": "execute_result"
    }
   ],
   "source": [
    "lend_data.groupby('pub_rec')['default_ind'].value_counts(normalize=True).loc[:,1].sort_values()"
   ]
  },
  {
   "cell_type": "markdown",
   "metadata": {},
   "source": [
    "Inference:  There is no particular trend to infer anything about this variable. "
   ]
  },
  {
   "cell_type": "markdown",
   "metadata": {},
   "source": [
    "# Total Credit Lines"
   ]
  },
  {
   "cell_type": "code",
   "execution_count": 86,
   "metadata": {},
   "outputs": [
    {
     "data": {
      "text/plain": [
       "134"
      ]
     },
     "execution_count": 86,
     "metadata": {},
     "output_type": "execute_result"
    }
   ],
   "source": [
    "lend_data['total_acc'].nunique()\n"
   ]
  },
  {
   "cell_type": "code",
   "execution_count": 87,
   "metadata": {},
   "outputs": [
    {
     "data": {
      "text/plain": [
       "Text(0.5, 1.0, 'Number of total Credit Lines')"
      ]
     },
     "execution_count": 87,
     "metadata": {},
     "output_type": "execute_result"
    },
    {
     "data": {
      "image/png": "[encoded data removed]",
      "text/plain": [
       "<Figure size 900x270 with 1 Axes>"
      ]
     },
     "metadata": {
      "needs_background": "light"
     },
     "output_type": "display_data"
    }
   ],
   "source": [
    "plt.figure(figsize=(10,3), dpi=90)\n",
    "sns.countplot(lend_data['total_acc'], order=sorted(lend_data['total_acc'].unique()), color='#5975A4', saturation=1)\n",
    "_, _ = plt.xticks(np.arange(0, 90, 5), np.arange(0, 90, 5))\n",
    "plt.title('Number of total Credit Lines')"
   ]
  },
  {
   "cell_type": "code",
   "execution_count": 88,
   "metadata": {},
   "outputs": [
    {
     "data": {
      "text/html": [
       "<div>\n",
       "<style scoped>\n",
       "    .dataframe tbody tr th:only-of-type {\n",
       "        vertical-align: middle;\n",
       "    }\n",
       "\n",
       "    .dataframe tbody tr th {\n",
       "        vertical-align: top;\n",
       "    }\n",
       "\n",
       "    .dataframe thead th {\n",
       "        text-align: right;\n",
       "    }\n",
       "</style>\n",
       "<table border=\"1\" class=\"dataframe\">\n",
       "  <thead>\n",
       "    <tr style=\"text-align: right;\">\n",
       "      <th></th>\n",
       "      <th>count</th>\n",
       "      <th>mean</th>\n",
       "      <th>std</th>\n",
       "      <th>min</th>\n",
       "      <th>25%</th>\n",
       "      <th>50%</th>\n",
       "      <th>75%</th>\n",
       "      <th>max</th>\n",
       "    </tr>\n",
       "    <tr>\n",
       "      <th>default_ind</th>\n",
       "      <th></th>\n",
       "      <th></th>\n",
       "      <th></th>\n",
       "      <th></th>\n",
       "      <th></th>\n",
       "      <th></th>\n",
       "      <th></th>\n",
       "      <th></th>\n",
       "    </tr>\n",
       "  </thead>\n",
       "  <tbody>\n",
       "    <tr>\n",
       "      <td>0</td>\n",
       "      <td>809502.0</td>\n",
       "      <td>25.328980</td>\n",
       "      <td>11.832300</td>\n",
       "      <td>2.0</td>\n",
       "      <td>17.0</td>\n",
       "      <td>24.0</td>\n",
       "      <td>32.0</td>\n",
       "      <td>169.0</td>\n",
       "    </tr>\n",
       "    <tr>\n",
       "      <td>1</td>\n",
       "      <td>46467.0</td>\n",
       "      <td>24.229044</td>\n",
       "      <td>11.532493</td>\n",
       "      <td>2.0</td>\n",
       "      <td>16.0</td>\n",
       "      <td>23.0</td>\n",
       "      <td>31.0</td>\n",
       "      <td>110.0</td>\n",
       "    </tr>\n",
       "  </tbody>\n",
       "</table>\n",
       "</div>"
      ],
      "text/plain": [
       "                count       mean        std  min   25%   50%   75%    max\n",
       "default_ind                                                              \n",
       "0            809502.0  25.328980  11.832300  2.0  17.0  24.0  32.0  169.0\n",
       "1             46467.0  24.229044  11.532493  2.0  16.0  23.0  31.0  110.0"
      ]
     },
     "execution_count": 88,
     "metadata": {},
     "output_type": "execute_result"
    }
   ],
   "source": [
    "lend_data.groupby('default_ind')['total_acc'].describe()"
   ]
  },
  {
   "cell_type": "markdown",
   "metadata": {},
   "source": [
    "Inference: There is no difference in total number of credit lines between paid loans and defaulted loans."
   ]
  },
  {
   "cell_type": "markdown",
   "metadata": {},
   "source": [
    "# Account now delinq"
   ]
  },
  {
   "cell_type": "code",
   "execution_count": 89,
   "metadata": {},
   "outputs": [
    {
     "data": {
      "text/plain": [
       "0.0     0.995409\n",
       "1.0     0.004314\n",
       "2.0     0.000231\n",
       "3.0     0.000033\n",
       "4.0     0.000007\n",
       "5.0     0.000004\n",
       "6.0     0.000001\n",
       "14.0    0.000001\n",
       "Name: acc_now_delinq, dtype: float64"
      ]
     },
     "execution_count": 89,
     "metadata": {},
     "output_type": "execute_result"
    }
   ],
   "source": [
    "lend_data['acc_now_delinq'].value_counts(normalize=True)"
   ]
  },
  {
   "cell_type": "code",
   "execution_count": 90,
   "metadata": {},
   "outputs": [
    {
     "data": {
      "image/png": "[encoded data removed]",
      "text/plain": [
       "<Figure size 1080x270 with 2 Axes>"
      ]
     },
     "metadata": {
      "needs_background": "light"
     },
     "output_type": "display_data"
    }
   ],
   "source": [
    "categorical_plot('acc_now_delinq','Acc now delinq')"
   ]
  },
  {
   "cell_type": "code",
   "execution_count": 91,
   "metadata": {},
   "outputs": [
    {
     "data": {
      "text/plain": [
       "acc_now_delinq\n",
       "0.0    0.054341\n",
       "1.0    0.041701\n",
       "2.0    0.045455\n",
       "3.0    0.071429\n",
       "5.0    0.333333\n",
       "Name: default_ind, dtype: float64"
      ]
     },
     "execution_count": 91,
     "metadata": {},
     "output_type": "execute_result"
    }
   ],
   "source": [
    "lend_data.groupby('acc_now_delinq')['default_ind'].value_counts(normalize=True).loc[:,1]"
   ]
  },
  {
   "cell_type": "markdown",
   "metadata": {},
   "source": [
    "Inference: More than 99% of this variable is 0, hence drop this variable."
   ]
  },
  {
   "cell_type": "code",
   "execution_count": 92,
   "metadata": {},
   "outputs": [],
   "source": [
    "lend_data=lend_data.drop(['acc_now_delinq'],axis=1)"
   ]
  },
  {
   "cell_type": "markdown",
   "metadata": {},
   "source": [
    "# Earliest credit line"
   ]
  },
  {
   "cell_type": "code",
   "execution_count": 93,
   "metadata": {},
   "outputs": [],
   "source": [
    "lend_data['earliest_cr_line'] = lend_data['earliest_cr_line'].apply(lambda s: int(s[-4:]))"
   ]
  },
  {
   "cell_type": "code",
   "execution_count": 94,
   "metadata": {},
   "outputs": [
    {
     "data": {
      "image/png": "[encoded data removed]",
      "text/plain": [
       "<Figure size 1080x270 with 2 Axes>"
      ]
     },
     "metadata": {
      "needs_background": "light"
     },
     "output_type": "display_data"
    }
   ],
   "source": [
    "categorical_plot('earliest_cr_line','earliest_cr_line')"
   ]
  },
  {
   "cell_type": "markdown",
   "metadata": {},
   "source": [
    "Inference: From above graph we observe default rate is not dependendent on earliest credit line, hence drop the variable."
   ]
  },
  {
   "cell_type": "code",
   "execution_count": 95,
   "metadata": {},
   "outputs": [],
   "source": [
    "lend_data=lend_data.drop(['earliest_cr_line'],axis=1)"
   ]
  },
  {
   "cell_type": "code",
   "execution_count": 96,
   "metadata": {},
   "outputs": [
    {
     "data": {
      "text/plain": [
       "Index(['loan_amnt', 'term', 'int_rate', 'grade', 'emp_length',\n",
       "       'home_ownership', 'annual_inc', 'verification_status', 'issue_d',\n",
       "       'purpose', 'addr_state', 'dti', 'delinq_2yrs', 'inq_last_6mths',\n",
       "       'open_acc', 'pub_rec', 'revol_bal', 'revol_util', 'total_acc',\n",
       "       'tot_cur_bal', 'total_rev_hi_lim', 'default_ind'],\n",
       "      dtype='object')"
      ]
     },
     "execution_count": 96,
     "metadata": {},
     "output_type": "execute_result"
    }
   ],
   "source": [
    "lend_data.columns"
   ]
  },
  {
   "cell_type": "code",
   "execution_count": 97,
   "metadata": {},
   "outputs": [
    {
     "data": {
      "text/plain": [
       "(855969, 22)"
      ]
     },
     "execution_count": 97,
     "metadata": {},
     "output_type": "execute_result"
    }
   ],
   "source": [
    "lend_data.shape"
   ]
  },
  {
   "cell_type": "markdown",
   "metadata": {},
   "source": [
    "# Chi-Squared Test for catagorical features"
   ]
  },
  {
   "cell_type": "code",
   "execution_count": 98,
   "metadata": {},
   "outputs": [],
   "source": [
    "# Define the class so it is convenient to use\n",
    "\n",
    "class ChiSquare:\n",
    "    def __init__(self, dataframe):\n",
    "        self.df = dataframe\n",
    "        self.p = None #P-Value\n",
    "        self.chi2 = None #Chi Test Statistic\n",
    "        self.dof = None\n",
    "        \n",
    "        self.dfTabular = None\n",
    "        self.dfExpected = None\n",
    "        \n",
    "    def TestIndependence(self,colX,colY, alpha=0.05):\n",
    "        X = self.df[colX].astype(str)\n",
    "        Y = self.df[colY].astype(str)\n",
    "        \n",
    "        self.dfObserved = pd.crosstab(Y,X) \n",
    "        chi2, p, dof, expected = stats.chi2_contingency(self.dfObserved.values)\n",
    "        self.p = p\n",
    "        self.chi2 = chi2\n",
    "        self.dof = dof \n",
    "        \n",
    "        self.dfExpected = pd.DataFrame(expected, columns=self.dfObserved.columns, index = self.dfObserved.index)\n",
    "        \n",
    "        self._print_chisquare_result(colX, alpha)\n",
    "    \n",
    "    def _print_chisquare_result(self, colX, alpha):\n",
    "        result = \"\"\n",
    "        if self.p<alpha:\n",
    "            result=\"{0} could be an IMPORTANT Predictor\".format(colX)\n",
    "        else:\n",
    "            result=\"{0} MAY NOT be an important predictor.\".format(colX)\n",
    "\n",
    "        print(result)"
   ]
  },
  {
   "cell_type": "code",
   "execution_count": 99,
   "metadata": {},
   "outputs": [
    {
     "name": "stdout",
     "output_type": "stream",
     "text": [
      "term could be an IMPORTANT Predictor\n",
      "grade could be an IMPORTANT Predictor\n",
      "emp_length could be an IMPORTANT Predictor\n",
      "home_ownership could be an IMPORTANT Predictor\n",
      "verification_status could be an IMPORTANT Predictor\n",
      "purpose could be an IMPORTANT Predictor\n",
      "addr_state could be an IMPORTANT Predictor\n"
     ]
    }
   ],
   "source": [
    "# Instantiate the class\n",
    "ChTest = ChiSquare(lend_data)\n",
    "\n",
    "# Pass all the columns for Chi-Squared test with response variable 'TripType' to find if they are important predictors\n",
    "testColumns = ['term','grade','emp_length','home_ownership','verification_status','purpose','addr_state']\n",
    "for var in testColumns:\n",
    "    ChTest.TestIndependence(colX=var,colY=\"default_ind\" ) "
   ]
  },
  {
   "cell_type": "markdown",
   "metadata": {},
   "source": [
    "Above Chi-Squared test analysis shows that all the categorical variables could be important predictors"
   ]
  },
  {
   "cell_type": "markdown",
   "metadata": {},
   "source": [
    "# Dummifying Nominal Columns"
   ]
  },
  {
   "cell_type": "code",
   "execution_count": 100,
   "metadata": {},
   "outputs": [],
   "source": [
    "catCols=['home_ownership','verification_status','purpose','addr_state']\n",
    "dummy_cols = pd.get_dummies(lend_data[catCols], drop_first = True)\n",
    "lend_data=lend_data.drop(catCols,axis=1)\n",
    "data_clean= pd.concat([lend_data,dummy_cols], axis =1)"
   ]
  },
  {
   "cell_type": "code",
   "execution_count": 101,
   "metadata": {},
   "outputs": [
    {
     "data": {
      "text/plain": [
       "Index(['loan_amnt', 'term', 'int_rate', 'grade', 'emp_length', 'annual_inc',\n",
       "       'issue_d', 'dti', 'delinq_2yrs', 'inq_last_6mths', 'open_acc',\n",
       "       'pub_rec', 'revol_bal', 'revol_util', 'total_acc', 'tot_cur_bal',\n",
       "       'total_rev_hi_lim', 'default_ind', 'home_ownership_OTHER',\n",
       "       'home_ownership_OWN', 'home_ownership_RENT',\n",
       "       'verification_status_Source Verified', 'verification_status_Verified',\n",
       "       'purpose_credit_card', 'purpose_debt_consolidation',\n",
       "       'purpose_educational', 'purpose_home_improvement', 'purpose_house',\n",
       "       'purpose_major_purchase', 'purpose_medical', 'purpose_moving',\n",
       "       'purpose_other', 'purpose_renewable_energy', 'purpose_small_business',\n",
       "       'purpose_vacation', 'purpose_wedding', 'addr_state_AL', 'addr_state_AR',\n",
       "       'addr_state_AZ', 'addr_state_CA', 'addr_state_CO', 'addr_state_CT',\n",
       "       'addr_state_DC', 'addr_state_DE', 'addr_state_FL', 'addr_state_GA',\n",
       "       'addr_state_HI', 'addr_state_IA', 'addr_state_ID', 'addr_state_IL',\n",
       "       'addr_state_IN', 'addr_state_KS', 'addr_state_KY', 'addr_state_LA',\n",
       "       'addr_state_MA', 'addr_state_MD', 'addr_state_ME', 'addr_state_MI',\n",
       "       'addr_state_MN', 'addr_state_MO', 'addr_state_MS', 'addr_state_MT',\n",
       "       'addr_state_NC', 'addr_state_ND', 'addr_state_NE', 'addr_state_NH',\n",
       "       'addr_state_NJ', 'addr_state_NM', 'addr_state_NV', 'addr_state_NY',\n",
       "       'addr_state_OH', 'addr_state_OK', 'addr_state_OR', 'addr_state_PA',\n",
       "       'addr_state_RI', 'addr_state_SC', 'addr_state_SD', 'addr_state_TN',\n",
       "       'addr_state_TX', 'addr_state_UT', 'addr_state_VA', 'addr_state_VT',\n",
       "       'addr_state_WA', 'addr_state_WI', 'addr_state_WV', 'addr_state_WY'],\n",
       "      dtype='object')"
      ]
     },
     "execution_count": 101,
     "metadata": {},
     "output_type": "execute_result"
    }
   ],
   "source": [
    "data_clean.columns"
   ]
  },
  {
   "cell_type": "markdown",
   "metadata": {},
   "source": [
    "# Train test split based on issue date"
   ]
  },
  {
   "cell_type": "code",
   "execution_count": 102,
   "metadata": {},
   "outputs": [],
   "source": [
    "data_clean=data_clean.drop(['issue_d'],axis=1)\n",
    "data_clean['default_ind']=lend_data['default_ind']\n",
    "lendBackup=data_clean\n",
    "y=data_clean['default_ind']\n",
    "data_clean=data_clean.drop(['default_ind'],axis=1)\n",
    "X=data_clean\n",
    "from sklearn.model_selection import train_test_split\n",
    "X_train,X_test,y_train,y_test=train_test_split(X,y,test_size=0.2,random_state=42)"
   ]
  },
  {
   "cell_type": "markdown",
   "metadata": {},
   "source": [
    "# Model Evaluation and Validation"
   ]
  },
  {
   "cell_type": "markdown",
   "metadata": {},
   "source": [
    "# Logistic Regression "
   ]
  },
  {
   "cell_type": "code",
   "execution_count": 104,
   "metadata": {},
   "outputs": [
    {
     "data": {
      "text/plain": [
       "LogisticRegression(C=1.0, class_weight=None, dual=False, fit_intercept=True,\n",
       "                   intercept_scaling=1, l1_ratio=None, max_iter=100,\n",
       "                   multi_class='warn', n_jobs=None, penalty='l2',\n",
       "                   random_state=None, solver='liblinear', tol=0.0001, verbose=0,\n",
       "                   warm_start=False)"
      ]
     },
     "execution_count": 104,
     "metadata": {},
     "output_type": "execute_result"
    }
   ],
   "source": [
    "final_model=LogisticRegression(solver='liblinear')\n",
    "final_model.fit(X_train,y_train)"
   ]
  },
  {
   "cell_type": "code",
   "execution_count": 105,
   "metadata": {},
   "outputs": [
    {
     "name": "stdout",
     "output_type": "stream",
     "text": [
      "0.9450214376672079\n",
      "[[161780     11]\n",
      " [  9401      2]]\n",
      "              precision    recall  f1-score   support\n",
      "\n",
      "           0       0.95      1.00      0.97    161791\n",
      "           1       0.15      0.00      0.00      9403\n",
      "\n",
      "    accuracy                           0.95    171194\n",
      "   macro avg       0.55      0.50      0.49    171194\n",
      "weighted avg       0.90      0.95      0.92    171194\n",
      "\n"
     ]
    }
   ],
   "source": [
    "pred=final_model.predict(X_test)\n",
    "Predictproba = final_model.predict_proba(X_test)[:,1] \n",
    "print(accuracy_score(y_test,pred))\n",
    "print(confusion_matrix(y_test,pred))\n",
    "print(classification_report(y_test,pred))"
   ]
  },
  {
   "cell_type": "markdown",
   "metadata": {},
   "source": [
    "Due to class imbalance all the defaulters are predicted as non defaulters."
   ]
  },
  {
   "cell_type": "markdown",
   "metadata": {},
   "source": [
    "# Applying SMOTE to handle imbalanced class problem"
   ]
  },
  {
   "cell_type": "code",
   "execution_count": 106,
   "metadata": {},
   "outputs": [],
   "source": [
    "smt = SMOTE()\n",
    "X_train, y_train = smt.fit_sample(X_train, y_train)"
   ]
  },
  {
   "cell_type": "code",
   "execution_count": 107,
   "metadata": {},
   "outputs": [
    {
     "data": {
      "text/plain": [
       "array([647711, 647711], dtype=int64)"
      ]
     },
     "execution_count": 107,
     "metadata": {},
     "output_type": "execute_result"
    }
   ],
   "source": [
    "np.bincount(y_train)"
   ]
  },
  {
   "cell_type": "code",
   "execution_count": 108,
   "metadata": {},
   "outputs": [
    {
     "data": {
      "text/plain": [
       "LogisticRegression(C=1.0, class_weight=None, dual=False, fit_intercept=True,\n",
       "                   intercept_scaling=1, l1_ratio=None, max_iter=100,\n",
       "                   multi_class='warn', n_jobs=None, penalty='l2',\n",
       "                   random_state=None, solver='liblinear', tol=0.0001, verbose=0,\n",
       "                   warm_start=False)"
      ]
     },
     "execution_count": 108,
     "metadata": {},
     "output_type": "execute_result"
    }
   ],
   "source": [
    "final_model=LogisticRegression(solver='liblinear')\n",
    "final_model.fit(X_train,y_train)"
   ]
  },
  {
   "cell_type": "code",
   "execution_count": 109,
   "metadata": {},
   "outputs": [
    {
     "name": "stdout",
     "output_type": "stream",
     "text": [
      "0.6290641027138801\n",
      "[[101363  60428]\n",
      " [  3074   6329]]\n",
      "              precision    recall  f1-score   support\n",
      "\n",
      "           0       0.97      0.63      0.76    161791\n",
      "           1       0.09      0.67      0.17      9403\n",
      "\n",
      "    accuracy                           0.63    171194\n",
      "   macro avg       0.53      0.65      0.46    171194\n",
      "weighted avg       0.92      0.63      0.73    171194\n",
      "\n",
      "0.16620273109243697\n"
     ]
    }
   ],
   "source": [
    "pred=final_model.predict(X_test)\n",
    "Predictproba = final_model.predict_proba(X_test)[:,1] \n",
    "print(accuracy_score(y_test,pred))\n",
    "print(confusion_matrix(y_test,pred))\n",
    "print(classification_report(y_test,pred))\n",
    "print(f1_score(y_test,pred))"
   ]
  },
  {
   "cell_type": "markdown",
   "metadata": {},
   "source": [
    "# ROC Curve"
   ]
  },
  {
   "cell_type": "code",
   "execution_count": 110,
   "metadata": {},
   "outputs": [
    {
     "data": {
      "image/png": "[encoded data removed]",
      "text/plain": [
       "<Figure size 432x288 with 1 Axes>"
      ]
     },
     "metadata": {
      "needs_background": "light"
     },
     "output_type": "display_data"
    }
   ],
   "source": [
    "fpr, tpr, _ = metrics.roc_curve(y_test,  Predictproba)\n",
    "auc = metrics.roc_auc_score(y_test, Predictproba)\n",
    "plt.plot(fpr,tpr,label=\"data 1, auc=\"+str(auc))\n",
    "plt.legend(loc=4)\n",
    "plt.plot([0, 1], [0, 1],'r--')\n",
    "plt.xlabel(\"False Positive Rate\")\n",
    "plt.ylabel(\"True Positive Rate\")\n",
    "plt.show()"
   ]
  },
  {
   "cell_type": "code",
   "execution_count": 111,
   "metadata": {},
   "outputs": [
    {
     "name": "stdout",
     "output_type": "stream",
     "text": [
      "0.5428811757421405\n",
      "[[85763 76028]\n",
      " [ 2228  7175]]\n",
      "              precision    recall  f1-score   support\n",
      "\n",
      "           0       0.97      0.53      0.69    161791\n",
      "           1       0.09      0.76      0.15      9403\n",
      "\n",
      "    accuracy                           0.54    171194\n",
      "   macro avg       0.53      0.65      0.42    171194\n",
      "weighted avg       0.93      0.54      0.66    171194\n",
      "\n",
      "0.15495756214500142\n"
     ]
    }
   ],
   "source": [
    "threshold = 0.45\n",
    "predicted_proba = final_model.predict_proba(X_test)\n",
    "predth = (predicted_proba [:,1] >= threshold).astype('int')\n",
    "print(accuracy_score(y_test,predth))\n",
    "print(confusion_matrix(y_test,predth))\n",
    "print(classification_report(y_test,predth))\n",
    "print(f1_score(y_test,predth))"
   ]
  },
  {
   "cell_type": "markdown",
   "metadata": {},
   "source": [
    "# Feature Engineering"
   ]
  },
  {
   "cell_type": "markdown",
   "metadata": {},
   "source": [
    "Address State doesnt seem to affect metrics much. Hence drop this feature."
   ]
  },
  {
   "cell_type": "code",
   "execution_count": 112,
   "metadata": {},
   "outputs": [],
   "source": [
    "lendBackup=lendBackup.drop(['addr_state_AL', 'addr_state_AR',\n",
    "       'addr_state_AZ', 'addr_state_CA', 'addr_state_CO', 'addr_state_CT',\n",
    "       'addr_state_DC', 'addr_state_DE', 'addr_state_FL', 'addr_state_GA',\n",
    "       'addr_state_HI', 'addr_state_IA', 'addr_state_ID', 'addr_state_IL',\n",
    "       'addr_state_IN', 'addr_state_KS', 'addr_state_KY', 'addr_state_LA',\n",
    "       'addr_state_MA', 'addr_state_MD', 'addr_state_ME', 'addr_state_MI',\n",
    "       'addr_state_MN', 'addr_state_MO', 'addr_state_MS', 'addr_state_MT',\n",
    "       'addr_state_NC', 'addr_state_ND', 'addr_state_NE', 'addr_state_NH',\n",
    "       'addr_state_NJ', 'addr_state_NM', 'addr_state_NV', 'addr_state_NY',\n",
    "       'addr_state_OH', 'addr_state_OK', 'addr_state_OR', 'addr_state_PA',\n",
    "       'addr_state_RI', 'addr_state_SC', 'addr_state_SD', 'addr_state_TN',\n",
    "       'addr_state_TX', 'addr_state_UT', 'addr_state_VA', 'addr_state_VT',\n",
    "       'addr_state_WA', 'addr_state_WI', 'addr_state_WV', 'addr_state_WY'],axis=1)\n"
   ]
  },
  {
   "cell_type": "code",
   "execution_count": 113,
   "metadata": {},
   "outputs": [
    {
     "data": {
      "text/plain": [
       "Index(['loan_amnt', 'term', 'int_rate', 'grade', 'emp_length', 'annual_inc',\n",
       "       'dti', 'delinq_2yrs', 'inq_last_6mths', 'open_acc', 'pub_rec',\n",
       "       'revol_bal', 'revol_util', 'total_acc', 'tot_cur_bal',\n",
       "       'total_rev_hi_lim', 'default_ind', 'home_ownership_OTHER',\n",
       "       'home_ownership_OWN', 'home_ownership_RENT',\n",
       "       'verification_status_Source Verified', 'verification_status_Verified',\n",
       "       'purpose_credit_card', 'purpose_debt_consolidation',\n",
       "       'purpose_educational', 'purpose_home_improvement', 'purpose_house',\n",
       "       'purpose_major_purchase', 'purpose_medical', 'purpose_moving',\n",
       "       'purpose_other', 'purpose_renewable_energy', 'purpose_small_business',\n",
       "       'purpose_vacation', 'purpose_wedding'],\n",
       "      dtype='object')"
      ]
     },
     "execution_count": 113,
     "metadata": {},
     "output_type": "execute_result"
    }
   ],
   "source": [
    "lendBackup.columns"
   ]
  },
  {
   "cell_type": "markdown",
   "metadata": {},
   "source": [
    "# Checking for multicollinearity"
   ]
  },
  {
   "cell_type": "markdown",
   "metadata": {},
   "source": [
    "Features having more than 0.40 correlation"
   ]
  },
  {
   "cell_type": "code",
   "execution_count": 114,
   "metadata": {
    "scrolled": true
   },
   "outputs": [
    {
     "data": {
      "text/plain": [
       "grade                         int_rate                               0.954900\n",
       "total_acc                     open_acc                               0.694850\n",
       "total_rev_hi_lim              revol_bal                              0.806634\n",
       "verification_status_Verified  verification_status_Source Verified   -0.536370\n",
       "purpose_debt_consolidation    purpose_credit_card                   -0.663284\n",
       "dtype: float64"
      ]
     },
     "execution_count": 114,
     "metadata": {},
     "output_type": "execute_result"
    }
   ],
   "source": [
    "cor = lendBackup.corr()\n",
    "cor.loc[:,:] = np.tril(cor, k=-1) # below main lower triangle of an array\n",
    "cor = cor.stack()\n",
    "cor[(cor > 0.50) | (cor < -0.50)]"
   ]
  },
  {
   "cell_type": "markdown",
   "metadata": {},
   "source": [
    "# Variance Inflation Factor"
   ]
  },
  {
   "cell_type": "code",
   "execution_count": 115,
   "metadata": {},
   "outputs": [
    {
     "name": "stderr",
     "output_type": "stream",
     "text": [
      "C:\\Users\\rashm\\Anaconda3\\lib\\site-packages\\statsmodels\\compat\\pandas.py:49: FutureWarning: The Panel class is removed from pandas. Accessing it from the top-level namespace will also be removed in the next version\n",
      "  data_klasses = (pandas.Series, pandas.DataFrame, pandas.Panel)\n"
     ]
    },
    {
     "name": "stdout",
     "output_type": "stream",
     "text": [
      "Variance inflation factor for loan_amnt: 6.71\n",
      "Variance inflation factor for term: 23.41\n",
      "Variance inflation factor for int_rate: 115.33\n",
      "Variance inflation factor for grade: 61.02\n",
      "Variance inflation factor for emp_length: 4.06\n",
      "Variance inflation factor for annual_inc: 3.16\n",
      "Variance inflation factor for dti: 2.2\n",
      "Variance inflation factor for delinq_2yrs: 1.17\n",
      "Variance inflation factor for inq_last_6mths: 1.72\n",
      "Variance inflation factor for open_acc: 12.02\n",
      "Variance inflation factor for pub_rec: 1.16\n",
      "Variance inflation factor for revol_bal: 6.41\n",
      "Variance inflation factor for revol_util: 9.87\n",
      "Variance inflation factor for total_acc: 11.82\n",
      "Variance inflation factor for tot_cur_bal: 3.35\n",
      "Variance inflation factor for total_rev_hi_lim: 6.89\n",
      "Variance inflation factor for default_ind: 1.1\n",
      "Variance inflation factor for home_ownership_OTHER: 1.0\n",
      "Variance inflation factor for home_ownership_OWN: 1.26\n",
      "Variance inflation factor for home_ownership_RENT: 2.48\n",
      "Variance inflation factor for verification_status_Source Verified: 2.41\n",
      "Variance inflation factor for verification_status_Verified: 2.42\n",
      "Variance inflation factor for purpose_credit_card: 8.74\n",
      "Variance inflation factor for purpose_debt_consolidation: 20.88\n",
      "Variance inflation factor for purpose_educational: 1.01\n",
      "Variance inflation factor for purpose_home_improvement: 2.81\n",
      "Variance inflation factor for purpose_house: 1.13\n",
      "Variance inflation factor for purpose_major_purchase: 1.58\n",
      "Variance inflation factor for purpose_medical: 1.3\n",
      "Variance inflation factor for purpose_moving: 1.2\n",
      "Variance inflation factor for purpose_other: 2.54\n",
      "Variance inflation factor for purpose_renewable_energy: 1.02\n",
      "Variance inflation factor for purpose_small_business: 1.36\n",
      "Variance inflation factor for purpose_vacation: 1.17\n",
      "Variance inflation factor for purpose_wedding: 1.08\n"
     ]
    }
   ],
   "source": [
    "from statsmodels.stats.outliers_influence import variance_inflation_factor as vif\n",
    "for i in range(len(lendBackup.columns[:])):\n",
    "    v=vif(np.matrix(lendBackup[:]),i)\n",
    "    print(\"Variance inflation factor for {}: {}\".format(lendBackup.columns[i],round(v,2)))"
   ]
  },
  {
   "cell_type": "code",
   "execution_count": 116,
   "metadata": {},
   "outputs": [],
   "source": [
    "lendBackup=lendBackup.drop(['purpose_debt_consolidation','term','verification_status_Verified','home_ownership_RENT',\n",
    "'verification_status_Source Verified','purpose_credit_card','home_ownership_OWN','purpose_small_business',\n",
    "'purpose_other','purpose_home_improvement','purpose_major_purchase','purpose_medical','purpose_house','purpose_moving','purpose_wedding',\n",
    "'purpose_vacation','purpose_renewable_energy','purpose_educational','home_ownership_OTHER'],axis=1)"
   ]
  },
  {
   "cell_type": "code",
   "execution_count": 117,
   "metadata": {},
   "outputs": [
    {
     "data": {
      "text/plain": [
       "Index(['loan_amnt', 'int_rate', 'grade', 'emp_length', 'annual_inc', 'dti',\n",
       "       'delinq_2yrs', 'inq_last_6mths', 'open_acc', 'pub_rec', 'revol_bal',\n",
       "       'revol_util', 'total_acc', 'tot_cur_bal', 'total_rev_hi_lim',\n",
       "       'default_ind'],\n",
       "      dtype='object')"
      ]
     },
     "execution_count": 117,
     "metadata": {},
     "output_type": "execute_result"
    }
   ],
   "source": [
    "lendBackup.columns"
   ]
  },
  {
   "cell_type": "markdown",
   "metadata": {},
   "source": [
    "# Feature Importance using Random Forest"
   ]
  },
  {
   "cell_type": "code",
   "execution_count": 120,
   "metadata": {},
   "outputs": [],
   "source": [
    "\n",
    "backup1=lendBackup\n",
    "y=lendBackup['default_ind']\n",
    "lendBackup=lendBackup.drop(['default_ind'],axis=1)\n",
    "X=lendBackup"
   ]
  },
  {
   "cell_type": "code",
   "execution_count": 121,
   "metadata": {},
   "outputs": [],
   "source": [
    "X_train,X_test,y_train,y_test=train_test_split(X,y,test_size=0.2,random_state=42)"
   ]
  },
  {
   "cell_type": "code",
   "execution_count": 122,
   "metadata": {},
   "outputs": [
    {
     "data": {
      "text/html": [
       "<div>\n",
       "<style scoped>\n",
       "    .dataframe tbody tr th:only-of-type {\n",
       "        vertical-align: middle;\n",
       "    }\n",
       "\n",
       "    .dataframe tbody tr th {\n",
       "        vertical-align: top;\n",
       "    }\n",
       "\n",
       "    .dataframe thead th {\n",
       "        text-align: right;\n",
       "    }\n",
       "</style>\n",
       "<table border=\"1\" class=\"dataframe\">\n",
       "  <thead>\n",
       "    <tr style=\"text-align: right;\">\n",
       "      <th></th>\n",
       "      <th>feature</th>\n",
       "      <th>Importance</th>\n",
       "    </tr>\n",
       "  </thead>\n",
       "  <tbody>\n",
       "    <tr>\n",
       "      <td>1</td>\n",
       "      <td>int_rate</td>\n",
       "      <td>0.116933</td>\n",
       "    </tr>\n",
       "    <tr>\n",
       "      <td>10</td>\n",
       "      <td>revol_bal</td>\n",
       "      <td>0.098241</td>\n",
       "    </tr>\n",
       "    <tr>\n",
       "      <td>5</td>\n",
       "      <td>dti</td>\n",
       "      <td>0.097754</td>\n",
       "    </tr>\n",
       "    <tr>\n",
       "      <td>11</td>\n",
       "      <td>revol_util</td>\n",
       "      <td>0.094305</td>\n",
       "    </tr>\n",
       "    <tr>\n",
       "      <td>13</td>\n",
       "      <td>tot_cur_bal</td>\n",
       "      <td>0.089356</td>\n",
       "    </tr>\n",
       "    <tr>\n",
       "      <td>4</td>\n",
       "      <td>annual_inc</td>\n",
       "      <td>0.087011</td>\n",
       "    </tr>\n",
       "    <tr>\n",
       "      <td>14</td>\n",
       "      <td>total_rev_hi_lim</td>\n",
       "      <td>0.084379</td>\n",
       "    </tr>\n",
       "    <tr>\n",
       "      <td>0</td>\n",
       "      <td>loan_amnt</td>\n",
       "      <td>0.078983</td>\n",
       "    </tr>\n",
       "    <tr>\n",
       "      <td>12</td>\n",
       "      <td>total_acc</td>\n",
       "      <td>0.071372</td>\n",
       "    </tr>\n",
       "    <tr>\n",
       "      <td>8</td>\n",
       "      <td>open_acc</td>\n",
       "      <td>0.059106</td>\n",
       "    </tr>\n",
       "    <tr>\n",
       "      <td>3</td>\n",
       "      <td>emp_length</td>\n",
       "      <td>0.041078</td>\n",
       "    </tr>\n",
       "    <tr>\n",
       "      <td>2</td>\n",
       "      <td>grade</td>\n",
       "      <td>0.028060</td>\n",
       "    </tr>\n",
       "    <tr>\n",
       "      <td>7</td>\n",
       "      <td>inq_last_6mths</td>\n",
       "      <td>0.026285</td>\n",
       "    </tr>\n",
       "    <tr>\n",
       "      <td>6</td>\n",
       "      <td>delinq_2yrs</td>\n",
       "      <td>0.017121</td>\n",
       "    </tr>\n",
       "    <tr>\n",
       "      <td>9</td>\n",
       "      <td>pub_rec</td>\n",
       "      <td>0.010016</td>\n",
       "    </tr>\n",
       "  </tbody>\n",
       "</table>\n",
       "</div>"
      ],
      "text/plain": [
       "             feature  Importance\n",
       "1           int_rate    0.116933\n",
       "10         revol_bal    0.098241\n",
       "5                dti    0.097754\n",
       "11        revol_util    0.094305\n",
       "13       tot_cur_bal    0.089356\n",
       "4         annual_inc    0.087011\n",
       "14  total_rev_hi_lim    0.084379\n",
       "0          loan_amnt    0.078983\n",
       "12         total_acc    0.071372\n",
       "8           open_acc    0.059106\n",
       "3         emp_length    0.041078\n",
       "2              grade    0.028060\n",
       "7     inq_last_6mths    0.026285\n",
       "6        delinq_2yrs    0.017121\n",
       "9            pub_rec    0.010016"
      ]
     },
     "execution_count": 122,
     "metadata": {},
     "output_type": "execute_result"
    }
   ],
   "source": [
    "rfmodel=RandomForestClassifier(n_estimators=10,max_depth=20)\n",
    "rffit=rfmodel.fit(X_train,y_train)\n",
    "features=lendBackup.columns\n",
    "importances = rffit.feature_importances_\n",
    "df1=pd.DataFrame(data=features,columns=['feature'])\n",
    "df2=pd.DataFrame(data=importances,columns=['Importance'])\n",
    "impDF=pd.concat([df1,df2],axis=1)\n",
    "impDF.sort_values(by='Importance',ascending=False)"
   ]
  },
  {
   "cell_type": "code",
   "execution_count": 123,
   "metadata": {},
   "outputs": [],
   "source": [
    "smt = SMOTE()\n",
    "X_train, y_train = smt.fit_sample(X_train, y_train)"
   ]
  },
  {
   "cell_type": "markdown",
   "metadata": {},
   "source": [
    "# Final Logistic Regression"
   ]
  },
  {
   "cell_type": "code",
   "execution_count": 124,
   "metadata": {},
   "outputs": [
    {
     "data": {
      "text/plain": [
       "LogisticRegression(C=1.0, class_weight=None, dual=False, fit_intercept=True,\n",
       "                   intercept_scaling=1, l1_ratio=None, max_iter=100,\n",
       "                   multi_class='warn', n_jobs=None, penalty='l2',\n",
       "                   random_state=None, solver='liblinear', tol=0.0001, verbose=0,\n",
       "                   warm_start=False)"
      ]
     },
     "execution_count": 124,
     "metadata": {},
     "output_type": "execute_result"
    }
   ],
   "source": [
    "final_model=LogisticRegression(solver='liblinear')\n",
    "final_model.fit(X_train,y_train)"
   ]
  },
  {
   "cell_type": "code",
   "execution_count": 125,
   "metadata": {},
   "outputs": [
    {
     "name": "stdout",
     "output_type": "stream",
     "text": [
      "0.6091919109314579\n",
      "[[97807 63984]\n",
      " [ 2920  6483]]\n",
      "              precision    recall  f1-score   support\n",
      "\n",
      "           0       0.97      0.60      0.75    161791\n",
      "           1       0.09      0.69      0.16      9403\n",
      "\n",
      "    accuracy                           0.61    171194\n",
      "   macro avg       0.53      0.65      0.45    171194\n",
      "weighted avg       0.92      0.61      0.71    171194\n",
      "\n",
      "0.1623388005508952\n"
     ]
    }
   ],
   "source": [
    "pred=final_model.predict(X_test)\n",
    "Predictproba = final_model.predict_proba(X_test)[:,1] \n",
    "print(accuracy_score(y_test,pred))\n",
    "print(confusion_matrix(y_test,pred))\n",
    "print(classification_report(y_test,pred))\n",
    "print(f1_score(y_test,pred))"
   ]
  },
  {
   "cell_type": "markdown",
   "metadata": {},
   "source": [
    "# KS Statistic plot"
   ]
  },
  {
   "cell_type": "code",
   "execution_count": 126,
   "metadata": {},
   "outputs": [
    {
     "data": {
      "text/plain": [
       "<matplotlib.axes._subplots.AxesSubplot at 0x1db8643cf60>"
      ]
     },
     "execution_count": 126,
     "metadata": {},
     "output_type": "execute_result"
    },
    {
     "data": {
      "image/png": "[encoded data removed]",
      "text/plain": [
       "<Figure size 432x288 with 1 Axes>"
      ]
     },
     "metadata": {
      "needs_background": "light"
     },
     "output_type": "display_data"
    }
   ],
   "source": [
    "y_probas = final_model.predict_proba(X_test)\n",
    "skplt.metrics.plot_ks_statistic(y_test, y_probas)"
   ]
  },
  {
   "cell_type": "markdown",
   "metadata": {},
   "source": [
    "# Cumulative Gains Curve"
   ]
  },
  {
   "cell_type": "code",
   "execution_count": 127,
   "metadata": {},
   "outputs": [
    {
     "name": "stderr",
     "output_type": "stream",
     "text": [
      "C:\\Users\\rashm\\Anaconda3\\lib\\site-packages\\matplotlib\\cbook\\__init__.py:424: MatplotlibDeprecationWarning: \n",
      "Passing one of 'on', 'true', 'off', 'false' as a boolean is deprecated; use an actual boolean (True/False) instead.\n",
      "  warn_deprecated(\"2.2\", \"Passing one of 'on', 'true', 'off', 'false' as a \"\n"
     ]
    },
    {
     "data": {
      "text/plain": [
       "<matplotlib.axes._subplots.AxesSubplot at 0x1db8b7b9b00>"
      ]
     },
     "execution_count": 127,
     "metadata": {},
     "output_type": "execute_result"
    },
    {
     "data": {
      "image/png": "[encoded data removed]",
      "text/plain": [
       "<Figure size 432x288 with 1 Axes>"
      ]
     },
     "metadata": {
      "needs_background": "light"
     },
     "output_type": "display_data"
    }
   ],
   "source": [
    "skplt.metrics.plot_cumulative_gain(y_test, y_probas)"
   ]
  },
  {
   "cell_type": "markdown",
   "metadata": {},
   "source": [
    "# Lift Curve"
   ]
  },
  {
   "cell_type": "code",
   "execution_count": 128,
   "metadata": {},
   "outputs": [
    {
     "name": "stderr",
     "output_type": "stream",
     "text": [
      "C:\\Users\\rashm\\Anaconda3\\lib\\site-packages\\matplotlib\\cbook\\__init__.py:424: MatplotlibDeprecationWarning: \n",
      "Passing one of 'on', 'true', 'off', 'false' as a boolean is deprecated; use an actual boolean (True/False) instead.\n",
      "  warn_deprecated(\"2.2\", \"Passing one of 'on', 'true', 'off', 'false' as a \"\n"
     ]
    },
    {
     "data": {
      "text/plain": [
       "<matplotlib.axes._subplots.AxesSubplot at 0x1db8b13bb38>"
      ]
     },
     "execution_count": 128,
     "metadata": {},
     "output_type": "execute_result"
    },
    {
     "data": {
      "image/png": "[encoded data removed]",
      "text/plain": [
       "<Figure size 432x288 with 1 Axes>"
      ]
     },
     "metadata": {
      "needs_background": "light"
     },
     "output_type": "display_data"
    }
   ],
   "source": [
    "skplt.metrics.plot_lift_curve(y_test, y_probas)"
   ]
  },
  {
   "cell_type": "markdown",
   "metadata": {},
   "source": [
    "# Grid Search CV with Random Forest"
   ]
  },
  {
   "cell_type": "code",
   "execution_count": null,
   "metadata": {},
   "outputs": [],
   "source": [
    "from sklearn.model_selection import GridSearchCV\n",
    "param_grid={\n",
    "           'max_depth':[3,5],\n",
    "            'criterion':['gini','entropy'],\n",
    "            'min_samples_split':[5,7],\n",
    "            'n_estimators':[5,10]\n",
    "           }\n",
    "\n",
    "rffit=GridSearchCV(RandomForestClassifier(),param_grid=param_grid,cv=5,scoring='f1',n_jobs=-1)\n",
    "rffit.fit(X_train,y_train)\n"
   ]
  },
  {
   "cell_type": "code",
   "execution_count": null,
   "metadata": {},
   "outputs": [],
   "source": [
    "rffit.best_estimator_"
   ]
  },
  {
   "cell_type": "code",
   "execution_count": 129,
   "metadata": {},
   "outputs": [],
   "source": [
    "rfmodel=RandomForestClassifier(criterion='gini',max_depth=5,min_samples_leaf=1, min_samples_split=7,\n",
    "                      n_estimators=10)\n",
    "rffit=rfmodel.fit(X_train,y_train)"
   ]
  },
  {
   "cell_type": "code",
   "execution_count": 130,
   "metadata": {},
   "outputs": [
    {
     "name": "stdout",
     "output_type": "stream",
     "text": [
      "0.7971833124992699\n",
      "[[132706  29085]\n",
      " [  5636   3767]]\n",
      "              precision    recall  f1-score   support\n",
      "\n",
      "           0       0.96      0.82      0.88    161791\n",
      "           1       0.11      0.40      0.18      9403\n",
      "\n",
      "    accuracy                           0.80    171194\n",
      "   macro avg       0.54      0.61      0.53    171194\n",
      "weighted avg       0.91      0.80      0.85    171194\n",
      "\n"
     ]
    }
   ],
   "source": [
    "predrf=rffit.predict(X_test)\n",
    "print(accuracy_score(y_test,predrf))\n",
    "print(confusion_matrix(y_test,predrf))\n",
    "print(classification_report(y_test,predrf))\n"
   ]
  },
  {
   "cell_type": "markdown",
   "metadata": {},
   "source": [
    "# Gradient Boosting"
   ]
  },
  {
   "cell_type": "code",
   "execution_count": 133,
   "metadata": {},
   "outputs": [
    {
     "name": "stdout",
     "output_type": "stream",
     "text": [
      "0.8410283070668364\n",
      "[[141375  20416]\n",
      " [  6799   2604]]\n",
      "              precision    recall  f1-score   support\n",
      "\n",
      "           0       0.95      0.87      0.91    161791\n",
      "           1       0.11      0.28      0.16      9403\n",
      "\n",
      "    accuracy                           0.84    171194\n",
      "   macro avg       0.53      0.58      0.54    171194\n",
      "weighted avg       0.91      0.84      0.87    171194\n",
      "\n"
     ]
    }
   ],
   "source": [
    "grid=GradientBoostingClassifier(max_depth=5,n_estimators=2)\n",
    "grid.fit(X_train,y_train)\n",
    "predgb=grid.predict(X_test)\n",
    "print(accuracy_score(y_test,predgb))\n",
    "print(confusion_matrix(y_test,predgb))\n",
    "print(classification_report(y_test,predgb))"
   ]
  },
  {
   "cell_type": "code",
   "execution_count": null,
   "metadata": {},
   "outputs": [],
   "source": []
  }
 ],
 "metadata": {
  "kernelspec": {
   "display_name": "Python 3",
   "language": "python",
   "name": "python3"
  },
  "language_info": {
   "codemirror_mode": {
    "name": "ipython",
    "version": 3
   },
   "file_extension": ".py",
   "mimetype": "text/x-python",
   "name": "python",
   "nbconvert_exporter": "python",
   "pygments_lexer": "ipython3",
   "version": "3.7.1"
  }
 },
 "nbformat": 4,
 "nbformat_minor": 2
}
